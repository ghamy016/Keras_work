{
 "cells": [
  {
   "cell_type": "markdown",
   "metadata": {},
   "source": [
    "# Multi-Input Model Classification in Keras (LSTM Neural Network)"
   ]
  },
  {
   "cell_type": "code",
   "execution_count": 6,
   "metadata": {},
   "outputs": [
    {
     "data": {
      "text/plain": [
       "'C:\\\\Users\\\\ghamy\\\\OneDrive - University of South Australia\\\\MS Data Science\\\\Semester 4\\\\Capstone Professional Project\\\\Me (Noman)\\\\keras-multi-input'"
      ]
     },
     "execution_count": 6,
     "metadata": {},
     "output_type": "execute_result"
    }
   ],
   "source": [
    "import os\n",
    "os.getcwd()\n"
   ]
  },
  {
   "cell_type": "code",
   "execution_count": 7,
   "metadata": {},
   "outputs": [],
   "source": [
    "path = r\"C:\\Users\\ghamy\\OneDrive - University of South Australia\\MS Data Science\\Semester 4\\Capstone Professional Project\\Me (Noman)\\keras-multi-input\"\n",
    "os.chdir(path)"
   ]
  },
  {
   "cell_type": "code",
   "execution_count": 8,
   "metadata": {},
   "outputs": [
    {
     "data": {
      "text/plain": [
       "'C:\\\\Users\\\\ghamy\\\\OneDrive - University of South Australia\\\\MS Data Science\\\\Semester 4\\\\Capstone Professional Project\\\\Me (Noman)\\\\keras-multi-input'"
      ]
     },
     "execution_count": 8,
     "metadata": {},
     "output_type": "execute_result"
    }
   ],
   "source": [
    "os.getcwd()"
   ]
  },
  {
   "cell_type": "code",
   "execution_count": 9,
   "metadata": {},
   "outputs": [],
   "source": [
    "# Loading Python libraries\n",
    "# numpy and pandas for data manipulation\n",
    "import numpy as np\n",
    "import pandas as pd \n",
    "\n",
    "# sklearn preprocessing for dealing with categorical variables\n",
    "from sklearn.preprocessing import LabelEncoder\n",
    "\n",
    "# File system manangement\n",
    "import os\n",
    "\n",
    "# Suppress warnings \n",
    "import warnings\n",
    "warnings.filterwarnings('ignore')\n",
    "\n",
    "# matplotlib and seaborn for plotting\n",
    "import matplotlib.pyplot as plt\n",
    "import seaborn as sns\n",
    "\n",
    "# to read pickle files\n",
    "import pickle"
   ]
  },
  {
   "cell_type": "code",
   "execution_count": 10,
   "metadata": {},
   "outputs": [],
   "source": [
    "# Loading Data (4 files as dataframes)\n",
    "\n",
    "# function for laoding pickle files\n",
    "def loadObject(name):\n",
    "    try:\n",
    "        with open(name, 'rb') as f:\n",
    "            return pickle.load(f)\n",
    "    except FileNotFoundError:\n",
    "        print('Could not find file \"{}\"\". Please check it exists inc. the file extension'.format(str(name)))\n",
    "\n",
    "# using function to load pickle files\n",
    "myObject = loadObject('chatEmbeddings_2019-08-14-165706.pkl')\n",
    "myObject1 = loadObject('transactionEmbeddings_2019-08-14-165704.pkl')\n",
    "\n",
    "# Reading metadata and clickstream csv files \n",
    "\n",
    "data_df = pd.read_csv('Capstone_Final_Data.csv')\n",
    "\n",
    "\n",
    "# converting files to data frames for EDA and further analysis\n",
    "chat_df = pd.DataFrame(myObject)\n",
    "transaction_df = pd.DataFrame(myObject1)\n",
    "\n",
    "\n"
   ]
  },
  {
   "cell_type": "code",
   "execution_count": 11,
   "metadata": {},
   "outputs": [
    {
     "data": {
      "text/plain": [
       "24104"
      ]
     },
     "execution_count": 11,
     "metadata": {},
     "output_type": "execute_result"
    }
   ],
   "source": [
    "len(chat_df)"
   ]
  },
  {
   "cell_type": "code",
   "execution_count": 12,
   "metadata": {},
   "outputs": [
    {
     "data": {
      "text/plain": [
       "607087"
      ]
     },
     "execution_count": 12,
     "metadata": {},
     "output_type": "execute_result"
    }
   ],
   "source": [
    "len(transaction_df)"
   ]
  },
  {
   "cell_type": "code",
   "execution_count": 13,
   "metadata": {},
   "outputs": [],
   "source": [
    "chat_df.loc[chat_df['status'] == 'withdrawn','status'] = 'declined'\n",
    "transaction_df.loc[transaction_df['status'] == 'withdrawn','status'] = 'declined'"
   ]
  },
  {
   "cell_type": "markdown",
   "metadata": {},
   "source": [
    "# Creating a Model with Chat Embeddings Only"
   ]
  },
  {
   "cell_type": "code",
   "execution_count": 14,
   "metadata": {
    "scrolled": true
   },
   "outputs": [
    {
     "data": {
      "text/html": [
       "<div>\n",
       "<style scoped>\n",
       "    .dataframe tbody tr th:only-of-type {\n",
       "        vertical-align: middle;\n",
       "    }\n",
       "\n",
       "    .dataframe tbody tr th {\n",
       "        vertical-align: top;\n",
       "    }\n",
       "\n",
       "    .dataframe thead th {\n",
       "        text-align: right;\n",
       "    }\n",
       "</style>\n",
       "<table border=\"1\" class=\"dataframe\">\n",
       "  <thead>\n",
       "    <tr style=\"text-align: right;\">\n",
       "      <th></th>\n",
       "      <th>applicationid</th>\n",
       "      <th>chatEmbedding</th>\n",
       "      <th>chatid</th>\n",
       "      <th>chatstarton</th>\n",
       "      <th>rating</th>\n",
       "      <th>sentiment_compound</th>\n",
       "      <th>status</th>\n",
       "      <th>user_type</th>\n",
       "      <th>utteranceid</th>\n",
       "    </tr>\n",
       "  </thead>\n",
       "  <tbody>\n",
       "    <tr>\n",
       "      <th>0</th>\n",
       "      <td>0e730e97f5e23f177468cc459acb888c0ceb461eed15cb...</td>\n",
       "      <td>[[0.012461126, 0.026670266, 0.0038820878, 0.04...</td>\n",
       "      <td>e0375487b152725bfb21b96876b260a5de52bfd69018ba...</td>\n",
       "      <td>2017-08-08</td>\n",
       "      <td>not_rated</td>\n",
       "      <td>0.0000</td>\n",
       "      <td>declined</td>\n",
       "      <td>visitor</td>\n",
       "      <td>8bd6b80d2aa9d4bab974b34ba0319c8cd73ec2441fb25d...</td>\n",
       "    </tr>\n",
       "    <tr>\n",
       "      <th>1</th>\n",
       "      <td>0e730e97f5e23f177468cc459acb888c0ceb461eed15cb...</td>\n",
       "      <td>[[0.012461126, 0.026670266, 0.0038820878, 0.04...</td>\n",
       "      <td>e0375487b152725bfb21b96876b260a5de52bfd69018ba...</td>\n",
       "      <td>2017-08-08</td>\n",
       "      <td>not_rated</td>\n",
       "      <td>0.0000</td>\n",
       "      <td>declined</td>\n",
       "      <td>visitor</td>\n",
       "      <td>851ec87283eaffc8375c0bf42c7b38d95707a27ebdaf05...</td>\n",
       "    </tr>\n",
       "    <tr>\n",
       "      <th>2</th>\n",
       "      <td>d4cc10aa447414db05c8a6613065333f5de089475c3a5c...</td>\n",
       "      <td>[[-0.015632771, 0.0395712, -0.021834029, -0.04...</td>\n",
       "      <td>4785521c6ff37491fd32d920faeb90871d85973cb81c01...</td>\n",
       "      <td>2017-08-16</td>\n",
       "      <td>rated_good</td>\n",
       "      <td>0.2263</td>\n",
       "      <td>declined</td>\n",
       "      <td>visitor</td>\n",
       "      <td>0514e95a2ca7e0c14eb862d4a3ef7810eda207dedeb60c...</td>\n",
       "    </tr>\n",
       "    <tr>\n",
       "      <th>3</th>\n",
       "      <td>d4cc10aa447414db05c8a6613065333f5de089475c3a5c...</td>\n",
       "      <td>[[0.04322845, 0.023193743, -0.014702667, -0.04...</td>\n",
       "      <td>4785521c6ff37491fd32d920faeb90871d85973cb81c01...</td>\n",
       "      <td>2017-08-16</td>\n",
       "      <td>rated_good</td>\n",
       "      <td>0.0000</td>\n",
       "      <td>declined</td>\n",
       "      <td>visitor</td>\n",
       "      <td>f8e218879ec6a557ccc8905a5617ac191facfd0945aafe...</td>\n",
       "    </tr>\n",
       "    <tr>\n",
       "      <th>4</th>\n",
       "      <td>d4cc10aa447414db05c8a6613065333f5de089475c3a5c...</td>\n",
       "      <td>[[0.013008025, 0.0027834661, 0.04260392, -0.01...</td>\n",
       "      <td>4785521c6ff37491fd32d920faeb90871d85973cb81c01...</td>\n",
       "      <td>2017-08-16</td>\n",
       "      <td>rated_good</td>\n",
       "      <td>0.4019</td>\n",
       "      <td>declined</td>\n",
       "      <td>visitor</td>\n",
       "      <td>4b55bbd6c7cf7a68b2048e75dd304a361d5092743a5145...</td>\n",
       "    </tr>\n",
       "  </tbody>\n",
       "</table>\n",
       "</div>"
      ],
      "text/plain": [
       "                                       applicationid  \\\n",
       "0  0e730e97f5e23f177468cc459acb888c0ceb461eed15cb...   \n",
       "1  0e730e97f5e23f177468cc459acb888c0ceb461eed15cb...   \n",
       "2  d4cc10aa447414db05c8a6613065333f5de089475c3a5c...   \n",
       "3  d4cc10aa447414db05c8a6613065333f5de089475c3a5c...   \n",
       "4  d4cc10aa447414db05c8a6613065333f5de089475c3a5c...   \n",
       "\n",
       "                                       chatEmbedding  \\\n",
       "0  [[0.012461126, 0.026670266, 0.0038820878, 0.04...   \n",
       "1  [[0.012461126, 0.026670266, 0.0038820878, 0.04...   \n",
       "2  [[-0.015632771, 0.0395712, -0.021834029, -0.04...   \n",
       "3  [[0.04322845, 0.023193743, -0.014702667, -0.04...   \n",
       "4  [[0.013008025, 0.0027834661, 0.04260392, -0.01...   \n",
       "\n",
       "                                              chatid chatstarton      rating  \\\n",
       "0  e0375487b152725bfb21b96876b260a5de52bfd69018ba...  2017-08-08   not_rated   \n",
       "1  e0375487b152725bfb21b96876b260a5de52bfd69018ba...  2017-08-08   not_rated   \n",
       "2  4785521c6ff37491fd32d920faeb90871d85973cb81c01...  2017-08-16  rated_good   \n",
       "3  4785521c6ff37491fd32d920faeb90871d85973cb81c01...  2017-08-16  rated_good   \n",
       "4  4785521c6ff37491fd32d920faeb90871d85973cb81c01...  2017-08-16  rated_good   \n",
       "\n",
       "   sentiment_compound    status user_type  \\\n",
       "0              0.0000  declined   visitor   \n",
       "1              0.0000  declined   visitor   \n",
       "2              0.2263  declined   visitor   \n",
       "3              0.0000  declined   visitor   \n",
       "4              0.4019  declined   visitor   \n",
       "\n",
       "                                         utteranceid  \n",
       "0  8bd6b80d2aa9d4bab974b34ba0319c8cd73ec2441fb25d...  \n",
       "1  851ec87283eaffc8375c0bf42c7b38d95707a27ebdaf05...  \n",
       "2  0514e95a2ca7e0c14eb862d4a3ef7810eda207dedeb60c...  \n",
       "3  f8e218879ec6a557ccc8905a5617ac191facfd0945aafe...  \n",
       "4  4b55bbd6c7cf7a68b2048e75dd304a361d5092743a5145...  "
      ]
     },
     "execution_count": 14,
     "metadata": {},
     "output_type": "execute_result"
    }
   ],
   "source": [
    "chat_df.head()"
   ]
  },
  {
   "cell_type": "code",
   "execution_count": 15,
   "metadata": {},
   "outputs": [
    {
     "name": "stderr",
     "output_type": "stream",
     "text": [
      "Using TensorFlow backend.\n"
     ]
    }
   ],
   "source": [
    "from numpy import array\n",
    "from keras.preprocessing.text import one_hot\n",
    "from keras.preprocessing.sequence import pad_sequences\n",
    "from keras.models import Sequential\n",
    "from keras.layers.core import Activation, Dropout, Dense\n",
    "from keras.layers import Flatten, LSTM\n",
    "from keras.layers import GlobalMaxPooling1D\n",
    "from keras.models import Model\n",
    "from keras.layers.embeddings import Embedding\n",
    "from sklearn.model_selection import train_test_split\n",
    "from keras.preprocessing.text import Tokenizer\n",
    "from keras.layers import Input\n",
    "from keras.layers.merge import Concatenate\n",
    "\n",
    "import pandas as pd\n",
    "import numpy as np\n",
    "import re"
   ]
  },
  {
   "cell_type": "code",
   "execution_count": 16,
   "metadata": {},
   "outputs": [],
   "source": [
    "X = chat_df[['chatEmbedding']].copy()\n",
    "y = chat_df[['status']].copy()"
   ]
  },
  {
   "cell_type": "code",
   "execution_count": 17,
   "metadata": {},
   "outputs": [
    {
     "data": {
      "text/plain": [
       "(24104, 1)"
      ]
     },
     "execution_count": 17,
     "metadata": {},
     "output_type": "execute_result"
    }
   ],
   "source": [
    "X.shape"
   ]
  },
  {
   "cell_type": "code",
   "execution_count": 18,
   "metadata": {},
   "outputs": [],
   "source": [
    "embedding_matrix = chat_df.chatEmbedding[0]\n",
    "from itertools import repeat\n",
    "for i in range(24103):\n",
    "    embedding_matrix = np.vstack((embedding_matrix, chat_df.chatEmbedding[i]))\n"
   ]
  },
  {
   "cell_type": "code",
   "execution_count": 19,
   "metadata": {},
   "outputs": [],
   "source": [
    "X = embedding_matrix"
   ]
  },
  {
   "cell_type": "code",
   "execution_count": 20,
   "metadata": {},
   "outputs": [
    {
     "data": {
      "text/plain": [
       "(385664, 9)"
      ]
     },
     "execution_count": 20,
     "metadata": {},
     "output_type": "execute_result"
    }
   ],
   "source": [
    "X.shape"
   ]
  },
  {
   "cell_type": "code",
   "execution_count": 21,
   "metadata": {},
   "outputs": [],
   "source": [
    "y = y.loc[y.index.repeat(16)].reset_index(drop=True)"
   ]
  },
  {
   "cell_type": "code",
   "execution_count": 22,
   "metadata": {},
   "outputs": [
    {
     "data": {
      "text/html": [
       "<div>\n",
       "<style scoped>\n",
       "    .dataframe tbody tr th:only-of-type {\n",
       "        vertical-align: middle;\n",
       "    }\n",
       "\n",
       "    .dataframe tbody tr th {\n",
       "        vertical-align: top;\n",
       "    }\n",
       "\n",
       "    .dataframe thead th {\n",
       "        text-align: right;\n",
       "    }\n",
       "</style>\n",
       "<table border=\"1\" class=\"dataframe\">\n",
       "  <thead>\n",
       "    <tr style=\"text-align: right;\">\n",
       "      <th></th>\n",
       "      <th>status</th>\n",
       "    </tr>\n",
       "  </thead>\n",
       "  <tbody>\n",
       "    <tr>\n",
       "      <th>0</th>\n",
       "      <td>declined</td>\n",
       "    </tr>\n",
       "    <tr>\n",
       "      <th>1</th>\n",
       "      <td>declined</td>\n",
       "    </tr>\n",
       "    <tr>\n",
       "      <th>2</th>\n",
       "      <td>declined</td>\n",
       "    </tr>\n",
       "    <tr>\n",
       "      <th>3</th>\n",
       "      <td>declined</td>\n",
       "    </tr>\n",
       "    <tr>\n",
       "      <th>4</th>\n",
       "      <td>declined</td>\n",
       "    </tr>\n",
       "  </tbody>\n",
       "</table>\n",
       "</div>"
      ],
      "text/plain": [
       "     status\n",
       "0  declined\n",
       "1  declined\n",
       "2  declined\n",
       "3  declined\n",
       "4  declined"
      ]
     },
     "execution_count": 22,
     "metadata": {},
     "output_type": "execute_result"
    }
   ],
   "source": [
    "y.head()"
   ]
  },
  {
   "cell_type": "code",
   "execution_count": 23,
   "metadata": {},
   "outputs": [],
   "source": [
    "from sklearn import preprocessing\n",
    "\n",
    "# label_encoder object knows how to understand word labels.\n",
    "label_encoder = preprocessing.LabelEncoder()\n",
    "\n",
    "# Encode labels in column 'species'.\n",
    "y = label_encoder.fit_transform(y)"
   ]
  },
  {
   "cell_type": "code",
   "execution_count": null,
   "metadata": {},
   "outputs": [],
   "source": []
  },
  {
   "cell_type": "code",
   "execution_count": 24,
   "metadata": {},
   "outputs": [],
   "source": [
    "X1_train, X1_test, y1_train, y1_test = train_test_split(X, y, test_size=0.20, random_state=42)"
   ]
  },
  {
   "cell_type": "code",
   "execution_count": 25,
   "metadata": {},
   "outputs": [
    {
     "data": {
      "text/plain": [
       "(308531, 9)"
      ]
     },
     "execution_count": 25,
     "metadata": {},
     "output_type": "execute_result"
    }
   ],
   "source": [
    "X1_train.shape"
   ]
  },
  {
   "cell_type": "code",
   "execution_count": 26,
   "metadata": {},
   "outputs": [
    {
     "data": {
      "text/plain": [
       "array([ 0.01246113,  0.02667027,  0.00388209,  0.04182083, -0.03291637,\n",
       "       -0.01836227, -0.00864174,  0.02887807,  0.03490983], dtype=float32)"
      ]
     },
     "execution_count": 26,
     "metadata": {},
     "output_type": "execute_result"
    }
   ],
   "source": [
    "X1_train[1]"
   ]
  },
  {
   "cell_type": "code",
   "execution_count": 27,
   "metadata": {},
   "outputs": [
    {
     "data": {
      "text/plain": [
       "(77133, 9)"
      ]
     },
     "execution_count": 27,
     "metadata": {},
     "output_type": "execute_result"
    }
   ],
   "source": [
    "X1_test.shape"
   ]
  },
  {
   "cell_type": "code",
   "execution_count": 28,
   "metadata": {},
   "outputs": [
    {
     "data": {
      "text/plain": [
       "(308531,)"
      ]
     },
     "execution_count": 28,
     "metadata": {},
     "output_type": "execute_result"
    }
   ],
   "source": [
    "y1_train.shape"
   ]
  },
  {
   "cell_type": "code",
   "execution_count": 29,
   "metadata": {},
   "outputs": [
    {
     "data": {
      "text/plain": [
       "(77133,)"
      ]
     },
     "execution_count": 29,
     "metadata": {},
     "output_type": "execute_result"
    }
   ],
   "source": [
    "y1_test.shape"
   ]
  },
  {
   "cell_type": "code",
   "execution_count": 30,
   "metadata": {},
   "outputs": [
    {
     "data": {
      "text/plain": [
       "array([[ 0.01246113,  0.02667027,  0.00388209, ..., -0.00864174,\n",
       "         0.02887807,  0.03490983],\n",
       "       [ 0.01246113,  0.02667027,  0.00388209, ..., -0.00864174,\n",
       "         0.02887807,  0.03490983],\n",
       "       [-0.01285403, -0.03059145,  0.04359328, ...,  0.0282667 ,\n",
       "         0.03512987, -0.00883285],\n",
       "       ...,\n",
       "       [ 0.01246113,  0.02667027,  0.00388209, ..., -0.00864174,\n",
       "         0.02887807,  0.03490983],\n",
       "       [ 0.01246113,  0.02667027,  0.00388209, ..., -0.00864174,\n",
       "         0.02887807,  0.03490983],\n",
       "       [ 0.01246113,  0.02667027,  0.00388209, ..., -0.00864174,\n",
       "         0.02887807,  0.03490983]], dtype=float32)"
      ]
     },
     "execution_count": 30,
     "metadata": {},
     "output_type": "execute_result"
    }
   ],
   "source": [
    "X1_test"
   ]
  },
  {
   "cell_type": "code",
   "execution_count": 31,
   "metadata": {},
   "outputs": [],
   "source": [
    "from keras.utils import to_categorical\n",
    "y1_train = to_categorical(y1_train)\n",
    "y1_test = to_categorical(y1_test)"
   ]
  },
  {
   "cell_type": "code",
   "execution_count": 32,
   "metadata": {},
   "outputs": [],
   "source": [
    "maxlen = 9\n",
    "vocab_size = 16*24104"
   ]
  },
  {
   "cell_type": "code",
   "execution_count": 33,
   "metadata": {},
   "outputs": [],
   "source": [
    "deep_inputs = Input(shape=(maxlen,))\n",
    "embedding_layer = Embedding(vocab_size, 9, weights=[embedding_matrix], trainable=False)(deep_inputs)\n",
    "LSTM_Layer_1 = LSTM(128)(embedding_layer)\n",
    "dense_layer_1 = Dense(2, activation='softmax')(LSTM_Layer_1)\n",
    "model = Model(inputs=deep_inputs, outputs=dense_layer_1)\n",
    "\n",
    "model.compile(loss='categorical_crossentropy', optimizer='adam', metrics=['acc'])"
   ]
  },
  {
   "cell_type": "code",
   "execution_count": 34,
   "metadata": {},
   "outputs": [
    {
     "name": "stdout",
     "output_type": "stream",
     "text": [
      "Model: \"model_1\"\n",
      "_________________________________________________________________\n",
      "Layer (type)                 Output Shape              Param #   \n",
      "=================================================================\n",
      "input_1 (InputLayer)         (None, 9)                 0         \n",
      "_________________________________________________________________\n",
      "embedding_1 (Embedding)      (None, 9, 9)              3470976   \n",
      "_________________________________________________________________\n",
      "lstm_1 (LSTM)                (None, 128)               70656     \n",
      "_________________________________________________________________\n",
      "dense_1 (Dense)              (None, 2)                 258       \n",
      "=================================================================\n",
      "Total params: 3,541,890\n",
      "Trainable params: 70,914\n",
      "Non-trainable params: 3,470,976\n",
      "_________________________________________________________________\n",
      "None\n"
     ]
    }
   ],
   "source": [
    "print(model.summary())"
   ]
  },
  {
   "cell_type": "code",
   "execution_count": 35,
   "metadata": {},
   "outputs": [
    {
     "data": {
      "image/png": "[encoded data removed]",
      "text/plain": [
       "<IPython.core.display.Image object>"
      ]
     },
     "execution_count": 35,
     "metadata": {},
     "output_type": "execute_result"
    }
   ],
   "source": [
    "from keras.utils import plot_model\n",
    "plot_model(model, to_file='model_plot2.png', show_shapes=True, show_layer_names=True)"
   ]
  },
  {
   "cell_type": "code",
   "execution_count": 36,
   "metadata": {},
   "outputs": [
    {
     "name": "stdout",
     "output_type": "stream",
     "text": [
      "Train on 246824 samples, validate on 61707 samples\n",
      "Epoch 1/10\n",
      "246824/246824 [==============================] - 31s 124us/step - loss: 0.6902 - acc: 0.5394 - val_loss: 0.6903 - val_acc: 0.5381\n",
      "Epoch 2/10\n",
      "246824/246824 [==============================] - 32s 130us/step - loss: 0.6901 - acc: 0.5394 - val_loss: 0.6903 - val_acc: 0.5381\n",
      "Epoch 3/10\n",
      "246824/246824 [==============================] - 30s 121us/step - loss: 0.6901 - acc: 0.5394 - val_loss: 0.6903 - val_acc: 0.5381\n",
      "Epoch 4/10\n",
      "246824/246824 [==============================] - 32s 128us/step - loss: 0.6901 - acc: 0.5394 - val_loss: 0.6902 - val_acc: 0.5381\n",
      "Epoch 5/10\n",
      "246824/246824 [==============================] - 33s 133us/step - loss: 0.6901 - acc: 0.5394 - val_loss: 0.6903 - val_acc: 0.5381\n",
      "Epoch 6/10\n",
      "246824/246824 [==============================] - 33s 135us/step - loss: 0.6901 - acc: 0.5394 - val_loss: 0.6902 - val_acc: 0.5381\n",
      "Epoch 7/10\n",
      "246824/246824 [==============================] - 30s 123us/step - loss: 0.6901 - acc: 0.5394 - val_loss: 0.6903 - val_acc: 0.5381\n",
      "Epoch 8/10\n",
      "246824/246824 [==============================] - 32s 129us/step - loss: 0.6901 - acc: 0.5394 - val_loss: 0.6902 - val_acc: 0.5381\n",
      "Epoch 9/10\n",
      "246824/246824 [==============================] - 32s 131us/step - loss: 0.6901 - acc: 0.5392 - val_loss: 0.6902 - val_acc: 0.5381\n",
      "Epoch 10/10\n",
      "246824/246824 [==============================] - 33s 134us/step - loss: 0.6901 - acc: 0.5394 - val_loss: 0.6903 - val_acc: 0.5381\n"
     ]
    }
   ],
   "source": [
    "history = model.fit(X1_train, y1_train, batch_size=128, epochs=10, verbose=1, validation_split=0.2)"
   ]
  },
  {
   "cell_type": "code",
   "execution_count": 37,
   "metadata": {},
   "outputs": [
    {
     "name": "stdout",
     "output_type": "stream",
     "text": [
      "77133/77133 [==============================] - 6s 82us/step\n",
      "Test Score: 0.6896745220773126\n",
      "Test Accuracy: 0.541674792766571\n"
     ]
    }
   ],
   "source": [
    "score = model.evaluate(X1_test, y1_test, verbose=1)\n",
    "\n",
    "print(\"Test Score:\", score[0])\n",
    "print(\"Test Accuracy:\", score[1])"
   ]
  },
  {
   "cell_type": "code",
   "execution_count": 41,
   "metadata": {},
   "outputs": [],
   "source": [
    "single_x_test = X1_test[0:9]"
   ]
  },
  {
   "cell_type": "code",
   "execution_count": 42,
   "metadata": {},
   "outputs": [
    {
     "data": {
      "text/plain": [
       "array([[ 0.01246113,  0.02667027,  0.00388209,  0.04182083, -0.03291637,\n",
       "        -0.01836227, -0.00864174,  0.02887807,  0.03490983],\n",
       "       [ 0.01246113,  0.02667027,  0.00388209,  0.04182083, -0.03291637,\n",
       "        -0.01836227, -0.00864174,  0.02887807,  0.03490983],\n",
       "       [-0.01285403, -0.03059145,  0.04359328,  0.03636283, -0.04215313,\n",
       "         0.03540075,  0.0282667 ,  0.03512987, -0.00883285],\n",
       "       [ 0.01246113,  0.02667027,  0.00388209,  0.04182083, -0.03291637,\n",
       "        -0.01836227, -0.00864174,  0.02887807,  0.03490983],\n",
       "       [ 0.01246113,  0.02667027,  0.00388209,  0.04182083, -0.03291637,\n",
       "        -0.01836227, -0.00864174,  0.02887807,  0.03490983],\n",
       "       [ 0.01246113,  0.02667027,  0.00388209,  0.04182083, -0.03291637,\n",
       "        -0.01836227, -0.00864174,  0.02887807,  0.03490983],\n",
       "       [ 0.01246113,  0.02667027,  0.00388209,  0.04182083, -0.03291637,\n",
       "        -0.01836227, -0.00864174,  0.02887807,  0.03490983],\n",
       "       [ 0.01246113,  0.02667027,  0.00388209,  0.04182083, -0.03291637,\n",
       "        -0.01836227, -0.00864174,  0.02887807,  0.03490983],\n",
       "       [ 0.01246113,  0.02667027,  0.00388209,  0.04182083, -0.03291637,\n",
       "        -0.01836227, -0.00864174,  0.02887807,  0.03490983]],\n",
       "      dtype=float32)"
      ]
     },
     "execution_count": 42,
     "metadata": {},
     "output_type": "execute_result"
    }
   ],
   "source": [
    "single_x_test"
   ]
  },
  {
   "cell_type": "code",
   "execution_count": 43,
   "metadata": {},
   "outputs": [
    {
     "data": {
      "text/plain": [
       "array([[0.45675665, 0.54324335],\n",
       "       [0.45675665, 0.54324335],\n",
       "       [0.45675665, 0.54324335],\n",
       "       [0.45675665, 0.54324335],\n",
       "       [0.45675665, 0.54324335],\n",
       "       [0.45675665, 0.54324335],\n",
       "       [0.45675665, 0.54324335],\n",
       "       [0.45675665, 0.54324335],\n",
       "       [0.45675665, 0.54324335]], dtype=float32)"
      ]
     },
     "execution_count": 43,
     "metadata": {},
     "output_type": "execute_result"
    }
   ],
   "source": [
    "model.predict(single_x_test)"
   ]
  },
  {
   "cell_type": "code",
   "execution_count": null,
   "metadata": {},
   "outputs": [],
   "source": []
  },
  {
   "cell_type": "code",
   "execution_count": 44,
   "metadata": {},
   "outputs": [
    {
     "data": {
      "image/png": "[encoded data removed]",
      "text/plain": [
       "<Figure size 432x288 with 1 Axes>"
      ]
     },
     "metadata": {
      "needs_background": "light"
     },
     "output_type": "display_data"
    },
    {
     "data": {
      "image/png": "[encoded data removed]",
      "text/plain": [
       "<Figure size 432x288 with 1 Axes>"
      ]
     },
     "metadata": {
      "needs_background": "light"
     },
     "output_type": "display_data"
    }
   ],
   "source": [
    "import matplotlib.pyplot as plt\n",
    "\n",
    "plt.plot(history.history['acc'])\n",
    "plt.plot(history.history['val_acc'])\n",
    "\n",
    "plt.title('model accuracy')\n",
    "plt.ylabel('accuracy')\n",
    "plt.xlabel('epoch')\n",
    "plt.legend(['train','test'], loc='upper left')\n",
    "plt.show()\n",
    "\n",
    "plt.plot(history.history['loss'])\n",
    "plt.plot(history.history['val_loss'])\n",
    "\n",
    "plt.title('model loss')\n",
    "plt.ylabel('loss')\n",
    "plt.xlabel('epoch')\n",
    "plt.legend(['train','test'], loc='upper left')\n",
    "plt.show()"
   ]
  },
  {
   "cell_type": "markdown",
   "metadata": {},
   "source": [
    "# Creating a Model with Transaction Embeddings Only"
   ]
  },
  {
   "cell_type": "code",
   "execution_count": 45,
   "metadata": {},
   "outputs": [
    {
     "data": {
      "text/html": [
       "<div>\n",
       "<style scoped>\n",
       "    .dataframe tbody tr th:only-of-type {\n",
       "        vertical-align: middle;\n",
       "    }\n",
       "\n",
       "    .dataframe tbody tr th {\n",
       "        vertical-align: top;\n",
       "    }\n",
       "\n",
       "    .dataframe thead th {\n",
       "        text-align: right;\n",
       "    }\n",
       "</style>\n",
       "<table border=\"1\" class=\"dataframe\">\n",
       "  <thead>\n",
       "    <tr style=\"text-align: right;\">\n",
       "      <th></th>\n",
       "      <th>accountid</th>\n",
       "      <th>applicationid</th>\n",
       "      <th>financialinstitution</th>\n",
       "      <th>status</th>\n",
       "      <th>transactionEmbedding</th>\n",
       "      <th>transactionamount</th>\n",
       "      <th>transactioncategory</th>\n",
       "      <th>transactionposteddate</th>\n",
       "      <th>txnid</th>\n",
       "    </tr>\n",
       "  </thead>\n",
       "  <tbody>\n",
       "    <tr>\n",
       "      <th>0</th>\n",
       "      <td>882a139cfcc370ed77493fa7940b9576c62cba020d2c39...</td>\n",
       "      <td>f38545158f037838b246a86459345fcebb094b3641fa5f...</td>\n",
       "      <td>ING</td>\n",
       "      <td>converted</td>\n",
       "      <td>[[0.039921653, 0.0076719522, -0.02605666, -0.0...</td>\n",
       "      <td>180.00</td>\n",
       "      <td>IncomeSalaryRegularIncome</td>\n",
       "      <td>2018-06-18</td>\n",
       "      <td>ea8b12252c4b3e6c85b5fb29cb4d02d1252cf54df38fcd...</td>\n",
       "    </tr>\n",
       "    <tr>\n",
       "      <th>1</th>\n",
       "      <td>882a139cfcc370ed77493fa7940b9576c62cba020d2c39...</td>\n",
       "      <td>f38545158f037838b246a86459345fcebb094b3641fa5f...</td>\n",
       "      <td>ING</td>\n",
       "      <td>converted</td>\n",
       "      <td>[[0.039921653, 0.0076719522, -0.02605666, -0.0...</td>\n",
       "      <td>174.00</td>\n",
       "      <td>IncomeSalaryRegularIncome</td>\n",
       "      <td>2018-06-04</td>\n",
       "      <td>68aad105bc429721b1cd8c7dc70acbaaca06d99e66486f...</td>\n",
       "    </tr>\n",
       "    <tr>\n",
       "      <th>2</th>\n",
       "      <td>882a139cfcc370ed77493fa7940b9576c62cba020d2c39...</td>\n",
       "      <td>f38545158f037838b246a86459345fcebb094b3641fa5f...</td>\n",
       "      <td>ING</td>\n",
       "      <td>converted</td>\n",
       "      <td>[[0.0037002675, -0.032413684, 0.02330419, 0.00...</td>\n",
       "      <td>-1695.68</td>\n",
       "      <td>TransferTransfers</td>\n",
       "      <td>2018-06-01</td>\n",
       "      <td>b4ff9d37964cd9f73a0ca4ff9c702cd261f3d6e2b2d052...</td>\n",
       "    </tr>\n",
       "    <tr>\n",
       "      <th>3</th>\n",
       "      <td>882a139cfcc370ed77493fa7940b9576c62cba020d2c39...</td>\n",
       "      <td>f38545158f037838b246a86459345fcebb094b3641fa5f...</td>\n",
       "      <td>ING</td>\n",
       "      <td>converted</td>\n",
       "      <td>[[-0.044274665, -0.030233014, -0.030928208, -0...</td>\n",
       "      <td>10264.00</td>\n",
       "      <td>IncomeOtherIncome</td>\n",
       "      <td>2018-05-22</td>\n",
       "      <td>dccdd51da721e751df8ce0ad77971ba97fbe6a39f762d8...</td>\n",
       "    </tr>\n",
       "    <tr>\n",
       "      <th>4</th>\n",
       "      <td>882a139cfcc370ed77493fa7940b9576c62cba020d2c39...</td>\n",
       "      <td>f38545158f037838b246a86459345fcebb094b3641fa5f...</td>\n",
       "      <td>ING</td>\n",
       "      <td>converted</td>\n",
       "      <td>[[-0.023104716, -0.030675078, -0.017270565, 0....</td>\n",
       "      <td>-41.43</td>\n",
       "      <td>TransferSecuritiesTrades</td>\n",
       "      <td>2018-05-21</td>\n",
       "      <td>f29a19b4120787ce8cc90be800f0f6d62cc9180c31c293...</td>\n",
       "    </tr>\n",
       "  </tbody>\n",
       "</table>\n",
       "</div>"
      ],
      "text/plain": [
       "                                           accountid  \\\n",
       "0  882a139cfcc370ed77493fa7940b9576c62cba020d2c39...   \n",
       "1  882a139cfcc370ed77493fa7940b9576c62cba020d2c39...   \n",
       "2  882a139cfcc370ed77493fa7940b9576c62cba020d2c39...   \n",
       "3  882a139cfcc370ed77493fa7940b9576c62cba020d2c39...   \n",
       "4  882a139cfcc370ed77493fa7940b9576c62cba020d2c39...   \n",
       "\n",
       "                                       applicationid financialinstitution  \\\n",
       "0  f38545158f037838b246a86459345fcebb094b3641fa5f...                  ING   \n",
       "1  f38545158f037838b246a86459345fcebb094b3641fa5f...                  ING   \n",
       "2  f38545158f037838b246a86459345fcebb094b3641fa5f...                  ING   \n",
       "3  f38545158f037838b246a86459345fcebb094b3641fa5f...                  ING   \n",
       "4  f38545158f037838b246a86459345fcebb094b3641fa5f...                  ING   \n",
       "\n",
       "      status                               transactionEmbedding  \\\n",
       "0  converted  [[0.039921653, 0.0076719522, -0.02605666, -0.0...   \n",
       "1  converted  [[0.039921653, 0.0076719522, -0.02605666, -0.0...   \n",
       "2  converted  [[0.0037002675, -0.032413684, 0.02330419, 0.00...   \n",
       "3  converted  [[-0.044274665, -0.030233014, -0.030928208, -0...   \n",
       "4  converted  [[-0.023104716, -0.030675078, -0.017270565, 0....   \n",
       "\n",
       "   transactionamount        transactioncategory transactionposteddate  \\\n",
       "0             180.00  IncomeSalaryRegularIncome            2018-06-18   \n",
       "1             174.00  IncomeSalaryRegularIncome            2018-06-04   \n",
       "2           -1695.68          TransferTransfers            2018-06-01   \n",
       "3           10264.00          IncomeOtherIncome            2018-05-22   \n",
       "4             -41.43   TransferSecuritiesTrades            2018-05-21   \n",
       "\n",
       "                                               txnid  \n",
       "0  ea8b12252c4b3e6c85b5fb29cb4d02d1252cf54df38fcd...  \n",
       "1  68aad105bc429721b1cd8c7dc70acbaaca06d99e66486f...  \n",
       "2  b4ff9d37964cd9f73a0ca4ff9c702cd261f3d6e2b2d052...  \n",
       "3  dccdd51da721e751df8ce0ad77971ba97fbe6a39f762d8...  \n",
       "4  f29a19b4120787ce8cc90be800f0f6d62cc9180c31c293...  "
      ]
     },
     "execution_count": 45,
     "metadata": {},
     "output_type": "execute_result"
    }
   ],
   "source": [
    "transaction_df.head()"
   ]
  },
  {
   "cell_type": "code",
   "execution_count": 46,
   "metadata": {},
   "outputs": [],
   "source": [
    "transaction_df1 = transaction_df.sample(frac =.5) \n",
    "transaction_df1 = transaction_df1.sample(frac =.5) \n",
    "transaction_df1 = transaction_df1.sample(frac =.5) \n",
    "transaction_df1 = transaction_df1.sample(frac =.5).reset_index(drop=True)"
   ]
  },
  {
   "cell_type": "code",
   "execution_count": 47,
   "metadata": {},
   "outputs": [
    {
     "data": {
      "text/plain": [
       "37943"
      ]
     },
     "execution_count": 47,
     "metadata": {},
     "output_type": "execute_result"
    }
   ],
   "source": [
    "len(transaction_df1)"
   ]
  },
  {
   "cell_type": "code",
   "execution_count": 48,
   "metadata": {},
   "outputs": [
    {
     "data": {
      "text/plain": [
       "(16, 16)"
      ]
     },
     "execution_count": 48,
     "metadata": {},
     "output_type": "execute_result"
    }
   ],
   "source": [
    "transaction_df1.transactionEmbedding[0].shape"
   ]
  },
  {
   "cell_type": "code",
   "execution_count": 49,
   "metadata": {},
   "outputs": [],
   "source": [
    "X1 = transaction_df1[['transactionEmbedding']].copy()\n",
    "y1 = transaction_df1[['status']].copy()"
   ]
  },
  {
   "cell_type": "code",
   "execution_count": 50,
   "metadata": {},
   "outputs": [
    {
     "data": {
      "text/plain": [
       "(37943, 1)"
      ]
     },
     "execution_count": 50,
     "metadata": {},
     "output_type": "execute_result"
    }
   ],
   "source": [
    "X1.shape"
   ]
  },
  {
   "cell_type": "code",
   "execution_count": 51,
   "metadata": {},
   "outputs": [
    {
     "data": {
      "text/plain": [
       "37943"
      ]
     },
     "execution_count": 51,
     "metadata": {},
     "output_type": "execute_result"
    }
   ],
   "source": [
    "len(X1)"
   ]
  },
  {
   "cell_type": "code",
   "execution_count": 52,
   "metadata": {},
   "outputs": [],
   "source": [
    "embedding_matrix1 = transaction_df.transactionEmbedding[0]\n",
    "from itertools import repeat\n",
    "for i in range(37942):\n",
    "    embedding_matrix1 = np.vstack((embedding_matrix1, transaction_df.transactionEmbedding[i]))\n"
   ]
  },
  {
   "cell_type": "code",
   "execution_count": 53,
   "metadata": {},
   "outputs": [],
   "source": [
    "X1 = embedding_matrix1"
   ]
  },
  {
   "cell_type": "code",
   "execution_count": 54,
   "metadata": {},
   "outputs": [
    {
     "data": {
      "text/plain": [
       "(607088, 16)"
      ]
     },
     "execution_count": 54,
     "metadata": {},
     "output_type": "execute_result"
    }
   ],
   "source": [
    "X1.shape"
   ]
  },
  {
   "cell_type": "code",
   "execution_count": 55,
   "metadata": {},
   "outputs": [
    {
     "data": {
      "text/plain": [
       "37943"
      ]
     },
     "execution_count": 55,
     "metadata": {},
     "output_type": "execute_result"
    }
   ],
   "source": [
    "len(y1)"
   ]
  },
  {
   "cell_type": "code",
   "execution_count": 56,
   "metadata": {},
   "outputs": [],
   "source": [
    "y1 = y1.loc[y1.index.repeat(16)].reset_index(drop=True)"
   ]
  },
  {
   "cell_type": "code",
   "execution_count": 57,
   "metadata": {},
   "outputs": [
    {
     "data": {
      "text/plain": [
       "607088"
      ]
     },
     "execution_count": 57,
     "metadata": {},
     "output_type": "execute_result"
    }
   ],
   "source": [
    "len(y1)"
   ]
  },
  {
   "cell_type": "code",
   "execution_count": 58,
   "metadata": {},
   "outputs": [],
   "source": [
    "from sklearn import preprocessing\n",
    "\n",
    "# label_encoder object knows how to understand word labels.\n",
    "label_encoder = preprocessing.LabelEncoder()\n",
    "\n",
    "# Encode labels in column 'species'.\n",
    "y1 = label_encoder.fit_transform(y1)"
   ]
  },
  {
   "cell_type": "code",
   "execution_count": 59,
   "metadata": {},
   "outputs": [],
   "source": [
    "X_train1, X_test1, y_train1, y_test1 = train_test_split(X1, y1, test_size=0.20, random_state=42)"
   ]
  },
  {
   "cell_type": "code",
   "execution_count": 60,
   "metadata": {},
   "outputs": [
    {
     "data": {
      "text/plain": [
       "(485670, 16)"
      ]
     },
     "execution_count": 60,
     "metadata": {},
     "output_type": "execute_result"
    }
   ],
   "source": [
    "X_train1.shape"
   ]
  },
  {
   "cell_type": "code",
   "execution_count": 61,
   "metadata": {},
   "outputs": [
    {
     "data": {
      "text/plain": [
       "(121418, 16)"
      ]
     },
     "execution_count": 61,
     "metadata": {},
     "output_type": "execute_result"
    }
   ],
   "source": [
    "X_test1.shape"
   ]
  },
  {
   "cell_type": "code",
   "execution_count": 62,
   "metadata": {},
   "outputs": [
    {
     "data": {
      "text/plain": [
       "(485670,)"
      ]
     },
     "execution_count": 62,
     "metadata": {},
     "output_type": "execute_result"
    }
   ],
   "source": [
    "y_train1.shape"
   ]
  },
  {
   "cell_type": "code",
   "execution_count": 63,
   "metadata": {},
   "outputs": [
    {
     "data": {
      "text/plain": [
       "(121418,)"
      ]
     },
     "execution_count": 63,
     "metadata": {},
     "output_type": "execute_result"
    }
   ],
   "source": [
    "y_test1.shape"
   ]
  },
  {
   "cell_type": "code",
   "execution_count": 64,
   "metadata": {},
   "outputs": [],
   "source": [
    "from keras.utils import to_categorical\n",
    "y_train1 = to_categorical(y_train1)\n",
    "y_test1 = to_categorical(y_test1)"
   ]
  },
  {
   "cell_type": "code",
   "execution_count": 65,
   "metadata": {},
   "outputs": [],
   "source": [
    "maxlen1 = 16\n",
    "vocab_size1 = 16*37943"
   ]
  },
  {
   "cell_type": "code",
   "execution_count": 66,
   "metadata": {},
   "outputs": [],
   "source": [
    "deep_inputs1 = Input(shape=(maxlen1,))\n",
    "embedding_layer1 = Embedding(vocab_size1, 16, weights=[embedding_matrix1], trainable=False)(deep_inputs1)\n",
    "LSTM1_Layer_1 = LSTM(128)(embedding_layer1)\n",
    "dense1_layer_1 = Dense(2, activation='softmax')(LSTM1_Layer_1)\n",
    "model1 = Model(inputs=deep_inputs1, outputs=dense1_layer_1)\n",
    "\n",
    "model1.compile(loss='categorical_crossentropy', optimizer='adam', metrics=['acc'])"
   ]
  },
  {
   "cell_type": "code",
   "execution_count": 67,
   "metadata": {},
   "outputs": [
    {
     "name": "stdout",
     "output_type": "stream",
     "text": [
      "Model: \"model_2\"\n",
      "_________________________________________________________________\n",
      "Layer (type)                 Output Shape              Param #   \n",
      "=================================================================\n",
      "input_2 (InputLayer)         (None, 16)                0         \n",
      "_________________________________________________________________\n",
      "embedding_2 (Embedding)      (None, 16, 16)            9713408   \n",
      "_________________________________________________________________\n",
      "lstm_2 (LSTM)                (None, 128)               74240     \n",
      "_________________________________________________________________\n",
      "dense_2 (Dense)              (None, 2)                 258       \n",
      "=================================================================\n",
      "Total params: 9,787,906\n",
      "Trainable params: 74,498\n",
      "Non-trainable params: 9,713,408\n",
      "_________________________________________________________________\n",
      "None\n"
     ]
    }
   ],
   "source": [
    "print(model1.summary())"
   ]
  },
  {
   "cell_type": "code",
   "execution_count": 68,
   "metadata": {},
   "outputs": [
    {
     "data": {
      "image/png": "[encoded data removed]",
      "text/plain": [
       "<IPython.core.display.Image object>"
      ]
     },
     "execution_count": 68,
     "metadata": {},
     "output_type": "execute_result"
    }
   ],
   "source": [
    "\n",
    "from keras.utils import plot_model\n",
    "plot_model(model1, to_file='model_plot1.png', show_shapes=True, show_layer_names=True)"
   ]
  },
  {
   "cell_type": "code",
   "execution_count": 69,
   "metadata": {},
   "outputs": [
    {
     "name": "stdout",
     "output_type": "stream",
     "text": [
      "Train on 388536 samples, validate on 97134 samples\n",
      "Epoch 1/10\n",
      "388536/388536 [==============================] - 97s 249us/step - loss: 0.5687 - acc: 0.7448 - val_loss: 0.5690 - val_acc: 0.7454\n",
      "Epoch 2/10\n",
      "388536/388536 [==============================] - 97s 249us/step - loss: 0.5681 - acc: 0.7449 - val_loss: 0.5676 - val_acc: 0.7454\n",
      "Epoch 3/10\n",
      "388536/388536 [==============================] - 91s 235us/step - loss: 0.5680 - acc: 0.7449 - val_loss: 0.5673 - val_acc: 0.7454\n",
      "Epoch 4/10\n",
      "388536/388536 [==============================] - 91s 235us/step - loss: 0.5680 - acc: 0.7449 - val_loss: 0.5673 - val_acc: 0.7454\n",
      "Epoch 5/10\n",
      "388536/388536 [==============================] - 89s 229us/step - loss: 0.5680 - acc: 0.7449 - val_loss: 0.5674 - val_acc: 0.7454\n",
      "Epoch 6/10\n",
      "388536/388536 [==============================] - 91s 235us/step - loss: 0.5680 - acc: 0.7449 - val_loss: 0.5676 - val_acc: 0.7454\n",
      "Epoch 7/10\n",
      "388536/388536 [==============================] - 90s 232us/step - loss: 0.5680 - acc: 0.7449 - val_loss: 0.5676 - val_acc: 0.7454\n",
      "Epoch 8/10\n",
      "388536/388536 [==============================] - 92s 237us/step - loss: 0.5680 - acc: 0.7449 - val_loss: 0.5673 - val_acc: 0.7454\n",
      "Epoch 9/10\n",
      "388536/388536 [==============================] - 92s 237us/step - loss: 0.5679 - acc: 0.7449 - val_loss: 0.5673 - val_acc: 0.7454\n",
      "Epoch 10/10\n",
      "388536/388536 [==============================] - 93s 239us/step - loss: 0.5679 - acc: 0.7449 - val_loss: 0.5674 - val_acc: 0.7454\n"
     ]
    }
   ],
   "source": [
    "history1 = model1.fit(X_train1, y_train1, batch_size=128, epochs=10, verbose=1, validation_split=0.2)"
   ]
  },
  {
   "cell_type": "code",
   "execution_count": 70,
   "metadata": {},
   "outputs": [
    {
     "name": "stdout",
     "output_type": "stream",
     "text": [
      "121418/121418 [==============================] - 16s 131us/step\n",
      "Test Score: 0.5689661954254294\n",
      "Test Accuracy: 0.74391770362854\n"
     ]
    }
   ],
   "source": [
    "score1 = model1.evaluate(X_test1, y_test1, verbose=1)\n",
    "\n",
    "print(\"Test Score:\", score1[0])\n",
    "print(\"Test Accuracy:\", score1[1])"
   ]
  },
  {
   "cell_type": "code",
   "execution_count": 71,
   "metadata": {},
   "outputs": [
    {
     "data": {
      "image/png": "[encoded data removed]",
      "text/plain": [
       "<Figure size 432x288 with 1 Axes>"
      ]
     },
     "metadata": {
      "needs_background": "light"
     },
     "output_type": "display_data"
    },
    {
     "data": {
      "image/png": "[encoded data removed]",
      "text/plain": [
       "<Figure size 432x288 with 1 Axes>"
      ]
     },
     "metadata": {
      "needs_background": "light"
     },
     "output_type": "display_data"
    }
   ],
   "source": [
    "import matplotlib.pyplot as plt\n",
    "\n",
    "plt.plot(history1.history['acc'])\n",
    "plt.plot(history1.history['val_acc'])\n",
    "\n",
    "plt.title('model accuracy')\n",
    "plt.ylabel('accuracy')\n",
    "plt.xlabel('epoch')\n",
    "plt.legend(['train','test'], loc='upper left')\n",
    "plt.show()\n",
    "\n",
    "plt.plot(history1.history['loss'])\n",
    "plt.plot(history1.history['val_loss'])\n",
    "\n",
    "plt.title('model loss')\n",
    "plt.ylabel('loss')\n",
    "plt.xlabel('epoch')\n",
    "plt.legend(['train','test'], loc='upper left')\n",
    "plt.show()"
   ]
  },
  {
   "cell_type": "markdown",
   "metadata": {},
   "source": [
    "# Creating a Model with Numerical and Categorical Features Only"
   ]
  },
  {
   "cell_type": "code",
   "execution_count": 72,
   "metadata": {},
   "outputs": [
    {
     "data": {
      "text/html": [
       "<div>\n",
       "<style scoped>\n",
       "    .dataframe tbody tr th:only-of-type {\n",
       "        vertical-align: middle;\n",
       "    }\n",
       "\n",
       "    .dataframe tbody tr th {\n",
       "        vertical-align: top;\n",
       "    }\n",
       "\n",
       "    .dataframe thead th {\n",
       "        text-align: right;\n",
       "    }\n",
       "</style>\n",
       "<table border=\"1\" class=\"dataframe\">\n",
       "  <thead>\n",
       "    <tr style=\"text-align: right;\">\n",
       "      <th></th>\n",
       "      <th>applicationid</th>\n",
       "      <th>status</th>\n",
       "      <th>propertystate</th>\n",
       "      <th>loanpurpose</th>\n",
       "      <th>repaymenttype</th>\n",
       "      <th>loanusage</th>\n",
       "      <th>ratetype</th>\n",
       "      <th>loanamount</th>\n",
       "      <th>loantovalueratio</th>\n",
       "      <th>applicationtype</th>\n",
       "      <th>...</th>\n",
       "      <th>finalpage</th>\n",
       "      <th>pagesvisited</th>\n",
       "      <th>howentered</th>\n",
       "      <th>conversionpathlen</th>\n",
       "      <th>financialinstitutionmode</th>\n",
       "      <th>transactioncategorymode</th>\n",
       "      <th>transactionamountmedian</th>\n",
       "      <th>chatratedpercentage</th>\n",
       "      <th>chatsentimentmean</th>\n",
       "      <th>chatlength</th>\n",
       "    </tr>\n",
       "  </thead>\n",
       "  <tbody>\n",
       "    <tr>\n",
       "      <th>0</th>\n",
       "      <td>000429e2882bd4555885bacf9678c0a60e10610ab9b7f8...</td>\n",
       "      <td>declined</td>\n",
       "      <td>QLD</td>\n",
       "      <td>PUR</td>\n",
       "      <td>Principal &amp; Interest</td>\n",
       "      <td>livein</td>\n",
       "      <td>variable</td>\n",
       "      <td>12.917403</td>\n",
       "      <td>0.657669</td>\n",
       "      <td>SINGLE</td>\n",
       "      <td>...</td>\n",
       "      <td>home |  worlds first instant home loan</td>\n",
       "      <td>1.0</td>\n",
       "      <td>PaidSearch</td>\n",
       "      <td>1.0</td>\n",
       "      <td>ING</td>\n",
       "      <td>TransferCreditCardPayments</td>\n",
       "      <td>-13.27</td>\n",
       "      <td>0.000000</td>\n",
       "      <td>0.000000</td>\n",
       "      <td>0.0</td>\n",
       "    </tr>\n",
       "    <tr>\n",
       "      <th>1</th>\n",
       "      <td>003dec44f66a6d3f85bdc0080ec7a49bb7f4e02bf3c81e...</td>\n",
       "      <td>declined</td>\n",
       "      <td>WA</td>\n",
       "      <td>REF</td>\n",
       "      <td>Principal &amp; Interest</td>\n",
       "      <td>livein</td>\n",
       "      <td>variable</td>\n",
       "      <td>13.575731</td>\n",
       "      <td>0.619600</td>\n",
       "      <td>JOINT</td>\n",
       "      <td>...</td>\n",
       "      <td>own your home loan | tic:toc</td>\n",
       "      <td>1.0</td>\n",
       "      <td>Native</td>\n",
       "      <td>1.0</td>\n",
       "      <td>None</td>\n",
       "      <td>None</td>\n",
       "      <td>0.00</td>\n",
       "      <td>0.000000</td>\n",
       "      <td>0.000000</td>\n",
       "      <td>0.0</td>\n",
       "    </tr>\n",
       "    <tr>\n",
       "      <th>2</th>\n",
       "      <td>00696bdea8b77f36209e48a29ea490b32acd26c33c0dbd...</td>\n",
       "      <td>declined</td>\n",
       "      <td>QLD</td>\n",
       "      <td>REF</td>\n",
       "      <td>Principal &amp; Interest</td>\n",
       "      <td>investment</td>\n",
       "      <td>variable</td>\n",
       "      <td>12.681971</td>\n",
       "      <td>0.794400</td>\n",
       "      <td>JOINT</td>\n",
       "      <td>...</td>\n",
       "      <td>am i eligible for a tic:toc loan?</td>\n",
       "      <td>2.0</td>\n",
       "      <td>PaidSearch</td>\n",
       "      <td>4.0</td>\n",
       "      <td>Westpac</td>\n",
       "      <td>ExpensesAtmCashWithdraws</td>\n",
       "      <td>-51.00</td>\n",
       "      <td>0.000000</td>\n",
       "      <td>0.000000</td>\n",
       "      <td>0.0</td>\n",
       "    </tr>\n",
       "    <tr>\n",
       "      <th>3</th>\n",
       "      <td>00776b64bf03fe8de18742eb413ccd1ad5a57264febcaa...</td>\n",
       "      <td>declined</td>\n",
       "      <td>NSW</td>\n",
       "      <td>REF</td>\n",
       "      <td>Principal &amp; Interest</td>\n",
       "      <td>livein</td>\n",
       "      <td>fixed</td>\n",
       "      <td>12.980556</td>\n",
       "      <td>0.494100</td>\n",
       "      <td>SINGLE</td>\n",
       "      <td>...</td>\n",
       "      <td>our home loans | tic:toc</td>\n",
       "      <td>1.0</td>\n",
       "      <td>Affiliates</td>\n",
       "      <td>1.0</td>\n",
       "      <td>Commonwealth Bank CBA</td>\n",
       "      <td>TransferTransfers</td>\n",
       "      <td>-5.00</td>\n",
       "      <td>0.000000</td>\n",
       "      <td>0.000000</td>\n",
       "      <td>0.0</td>\n",
       "    </tr>\n",
       "    <tr>\n",
       "      <th>4</th>\n",
       "      <td>0077be1ca38bcfa8b4d2cc8fc9ff2efdce1c106b4a8ef6...</td>\n",
       "      <td>converted</td>\n",
       "      <td>VIC</td>\n",
       "      <td>REF</td>\n",
       "      <td>Principal &amp; Interest</td>\n",
       "      <td>livein</td>\n",
       "      <td>variable</td>\n",
       "      <td>12.282987</td>\n",
       "      <td>0.160800</td>\n",
       "      <td>JOINT</td>\n",
       "      <td>...</td>\n",
       "      <td>rates  fees</td>\n",
       "      <td>6.0</td>\n",
       "      <td>PaidSearch</td>\n",
       "      <td>8.0</td>\n",
       "      <td>ANZ</td>\n",
       "      <td>ExpensesGroceries</td>\n",
       "      <td>-35.96</td>\n",
       "      <td>0.727273</td>\n",
       "      <td>0.349618</td>\n",
       "      <td>11.0</td>\n",
       "    </tr>\n",
       "  </tbody>\n",
       "</table>\n",
       "<p>5 rows × 28 columns</p>\n",
       "</div>"
      ],
      "text/plain": [
       "                                       applicationid     status propertystate  \\\n",
       "0  000429e2882bd4555885bacf9678c0a60e10610ab9b7f8...   declined           QLD   \n",
       "1  003dec44f66a6d3f85bdc0080ec7a49bb7f4e02bf3c81e...   declined            WA   \n",
       "2  00696bdea8b77f36209e48a29ea490b32acd26c33c0dbd...   declined           QLD   \n",
       "3  00776b64bf03fe8de18742eb413ccd1ad5a57264febcaa...   declined           NSW   \n",
       "4  0077be1ca38bcfa8b4d2cc8fc9ff2efdce1c106b4a8ef6...  converted           VIC   \n",
       "\n",
       "  loanpurpose         repaymenttype   loanusage  ratetype  loanamount  \\\n",
       "0         PUR  Principal & Interest      livein  variable   12.917403   \n",
       "1         REF  Principal & Interest      livein  variable   13.575731   \n",
       "2         REF  Principal & Interest  investment  variable   12.681971   \n",
       "3         REF  Principal & Interest      livein     fixed   12.980556   \n",
       "4         REF  Principal & Interest      livein  variable   12.282987   \n",
       "\n",
       "   loantovalueratio applicationtype  ...  \\\n",
       "0          0.657669          SINGLE  ...   \n",
       "1          0.619600           JOINT  ...   \n",
       "2          0.794400           JOINT  ...   \n",
       "3          0.494100          SINGLE  ...   \n",
       "4          0.160800           JOINT  ...   \n",
       "\n",
       "                                finalpage  pagesvisited  howentered  \\\n",
       "0  home |  worlds first instant home loan           1.0  PaidSearch   \n",
       "1            own your home loan | tic:toc           1.0      Native   \n",
       "2       am i eligible for a tic:toc loan?           2.0  PaidSearch   \n",
       "3                our home loans | tic:toc           1.0  Affiliates   \n",
       "4                             rates  fees           6.0  PaidSearch   \n",
       "\n",
       "   conversionpathlen  financialinstitutionmode     transactioncategorymode  \\\n",
       "0                1.0                       ING  TransferCreditCardPayments   \n",
       "1                1.0                      None                        None   \n",
       "2                4.0                   Westpac    ExpensesAtmCashWithdraws   \n",
       "3                1.0     Commonwealth Bank CBA           TransferTransfers   \n",
       "4                8.0                       ANZ           ExpensesGroceries   \n",
       "\n",
       "   transactionamountmedian chatratedpercentage chatsentimentmean  chatlength  \n",
       "0                   -13.27            0.000000          0.000000         0.0  \n",
       "1                     0.00            0.000000          0.000000         0.0  \n",
       "2                   -51.00            0.000000          0.000000         0.0  \n",
       "3                    -5.00            0.000000          0.000000         0.0  \n",
       "4                   -35.96            0.727273          0.349618        11.0  \n",
       "\n",
       "[5 rows x 28 columns]"
      ]
     },
     "execution_count": 72,
     "metadata": {},
     "output_type": "execute_result"
    }
   ],
   "source": [
    "data_df.head()"
   ]
  },
  {
   "cell_type": "code",
   "execution_count": 73,
   "metadata": {},
   "outputs": [],
   "source": [
    "del data_df['applicationid']"
   ]
  },
  {
   "cell_type": "code",
   "execution_count": 74,
   "metadata": {},
   "outputs": [
    {
     "data": {
      "text/html": [
       "<div>\n",
       "<style scoped>\n",
       "    .dataframe tbody tr th:only-of-type {\n",
       "        vertical-align: middle;\n",
       "    }\n",
       "\n",
       "    .dataframe tbody tr th {\n",
       "        vertical-align: top;\n",
       "    }\n",
       "\n",
       "    .dataframe thead th {\n",
       "        text-align: right;\n",
       "    }\n",
       "</style>\n",
       "<table border=\"1\" class=\"dataframe\">\n",
       "  <thead>\n",
       "    <tr style=\"text-align: right;\">\n",
       "      <th></th>\n",
       "      <th>status</th>\n",
       "      <th>propertystate</th>\n",
       "      <th>loanpurpose</th>\n",
       "      <th>repaymenttype</th>\n",
       "      <th>loanusage</th>\n",
       "      <th>ratetype</th>\n",
       "      <th>loanamount</th>\n",
       "      <th>loantovalueratio</th>\n",
       "      <th>applicationtype</th>\n",
       "      <th>agecreatedon</th>\n",
       "      <th>...</th>\n",
       "      <th>finalpage</th>\n",
       "      <th>pagesvisited</th>\n",
       "      <th>howentered</th>\n",
       "      <th>conversionpathlen</th>\n",
       "      <th>financialinstitutionmode</th>\n",
       "      <th>transactioncategorymode</th>\n",
       "      <th>transactionamountmedian</th>\n",
       "      <th>chatratedpercentage</th>\n",
       "      <th>chatsentimentmean</th>\n",
       "      <th>chatlength</th>\n",
       "    </tr>\n",
       "  </thead>\n",
       "  <tbody>\n",
       "    <tr>\n",
       "      <th>0</th>\n",
       "      <td>declined</td>\n",
       "      <td>QLD</td>\n",
       "      <td>PUR</td>\n",
       "      <td>Principal &amp; Interest</td>\n",
       "      <td>livein</td>\n",
       "      <td>variable</td>\n",
       "      <td>12.917403</td>\n",
       "      <td>0.657669</td>\n",
       "      <td>SINGLE</td>\n",
       "      <td>32.0</td>\n",
       "      <td>...</td>\n",
       "      <td>home |  worlds first instant home loan</td>\n",
       "      <td>1.0</td>\n",
       "      <td>PaidSearch</td>\n",
       "      <td>1.0</td>\n",
       "      <td>ING</td>\n",
       "      <td>TransferCreditCardPayments</td>\n",
       "      <td>-13.27</td>\n",
       "      <td>0.000000</td>\n",
       "      <td>0.000000</td>\n",
       "      <td>0.0</td>\n",
       "    </tr>\n",
       "    <tr>\n",
       "      <th>1</th>\n",
       "      <td>declined</td>\n",
       "      <td>WA</td>\n",
       "      <td>REF</td>\n",
       "      <td>Principal &amp; Interest</td>\n",
       "      <td>livein</td>\n",
       "      <td>variable</td>\n",
       "      <td>13.575731</td>\n",
       "      <td>0.619600</td>\n",
       "      <td>JOINT</td>\n",
       "      <td>72.0</td>\n",
       "      <td>...</td>\n",
       "      <td>own your home loan | tic:toc</td>\n",
       "      <td>1.0</td>\n",
       "      <td>Native</td>\n",
       "      <td>1.0</td>\n",
       "      <td>None</td>\n",
       "      <td>None</td>\n",
       "      <td>0.00</td>\n",
       "      <td>0.000000</td>\n",
       "      <td>0.000000</td>\n",
       "      <td>0.0</td>\n",
       "    </tr>\n",
       "    <tr>\n",
       "      <th>2</th>\n",
       "      <td>declined</td>\n",
       "      <td>QLD</td>\n",
       "      <td>REF</td>\n",
       "      <td>Principal &amp; Interest</td>\n",
       "      <td>investment</td>\n",
       "      <td>variable</td>\n",
       "      <td>12.681971</td>\n",
       "      <td>0.794400</td>\n",
       "      <td>JOINT</td>\n",
       "      <td>42.0</td>\n",
       "      <td>...</td>\n",
       "      <td>am i eligible for a tic:toc loan?</td>\n",
       "      <td>2.0</td>\n",
       "      <td>PaidSearch</td>\n",
       "      <td>4.0</td>\n",
       "      <td>Westpac</td>\n",
       "      <td>ExpensesAtmCashWithdraws</td>\n",
       "      <td>-51.00</td>\n",
       "      <td>0.000000</td>\n",
       "      <td>0.000000</td>\n",
       "      <td>0.0</td>\n",
       "    </tr>\n",
       "    <tr>\n",
       "      <th>3</th>\n",
       "      <td>declined</td>\n",
       "      <td>NSW</td>\n",
       "      <td>REF</td>\n",
       "      <td>Principal &amp; Interest</td>\n",
       "      <td>livein</td>\n",
       "      <td>fixed</td>\n",
       "      <td>12.980556</td>\n",
       "      <td>0.494100</td>\n",
       "      <td>SINGLE</td>\n",
       "      <td>30.0</td>\n",
       "      <td>...</td>\n",
       "      <td>our home loans | tic:toc</td>\n",
       "      <td>1.0</td>\n",
       "      <td>Affiliates</td>\n",
       "      <td>1.0</td>\n",
       "      <td>Commonwealth Bank CBA</td>\n",
       "      <td>TransferTransfers</td>\n",
       "      <td>-5.00</td>\n",
       "      <td>0.000000</td>\n",
       "      <td>0.000000</td>\n",
       "      <td>0.0</td>\n",
       "    </tr>\n",
       "    <tr>\n",
       "      <th>4</th>\n",
       "      <td>converted</td>\n",
       "      <td>VIC</td>\n",
       "      <td>REF</td>\n",
       "      <td>Principal &amp; Interest</td>\n",
       "      <td>livein</td>\n",
       "      <td>variable</td>\n",
       "      <td>12.282987</td>\n",
       "      <td>0.160800</td>\n",
       "      <td>JOINT</td>\n",
       "      <td>65.0</td>\n",
       "      <td>...</td>\n",
       "      <td>rates  fees</td>\n",
       "      <td>6.0</td>\n",
       "      <td>PaidSearch</td>\n",
       "      <td>8.0</td>\n",
       "      <td>ANZ</td>\n",
       "      <td>ExpensesGroceries</td>\n",
       "      <td>-35.96</td>\n",
       "      <td>0.727273</td>\n",
       "      <td>0.349618</td>\n",
       "      <td>11.0</td>\n",
       "    </tr>\n",
       "  </tbody>\n",
       "</table>\n",
       "<p>5 rows × 27 columns</p>\n",
       "</div>"
      ],
      "text/plain": [
       "      status propertystate loanpurpose         repaymenttype   loanusage  \\\n",
       "0   declined           QLD         PUR  Principal & Interest      livein   \n",
       "1   declined            WA         REF  Principal & Interest      livein   \n",
       "2   declined           QLD         REF  Principal & Interest  investment   \n",
       "3   declined           NSW         REF  Principal & Interest      livein   \n",
       "4  converted           VIC         REF  Principal & Interest      livein   \n",
       "\n",
       "   ratetype  loanamount  loantovalueratio applicationtype  agecreatedon  ...  \\\n",
       "0  variable   12.917403          0.657669          SINGLE          32.0  ...   \n",
       "1  variable   13.575731          0.619600           JOINT          72.0  ...   \n",
       "2  variable   12.681971          0.794400           JOINT          42.0  ...   \n",
       "3     fixed   12.980556          0.494100          SINGLE          30.0  ...   \n",
       "4  variable   12.282987          0.160800           JOINT          65.0  ...   \n",
       "\n",
       "                                finalpage  pagesvisited  howentered  \\\n",
       "0  home |  worlds first instant home loan           1.0  PaidSearch   \n",
       "1            own your home loan | tic:toc           1.0      Native   \n",
       "2       am i eligible for a tic:toc loan?           2.0  PaidSearch   \n",
       "3                our home loans | tic:toc           1.0  Affiliates   \n",
       "4                             rates  fees           6.0  PaidSearch   \n",
       "\n",
       "   conversionpathlen  financialinstitutionmode     transactioncategorymode  \\\n",
       "0                1.0                       ING  TransferCreditCardPayments   \n",
       "1                1.0                      None                        None   \n",
       "2                4.0                   Westpac    ExpensesAtmCashWithdraws   \n",
       "3                1.0     Commonwealth Bank CBA           TransferTransfers   \n",
       "4                8.0                       ANZ           ExpensesGroceries   \n",
       "\n",
       "  transactionamountmedian chatratedpercentage  chatsentimentmean chatlength  \n",
       "0                  -13.27            0.000000           0.000000        0.0  \n",
       "1                    0.00            0.000000           0.000000        0.0  \n",
       "2                  -51.00            0.000000           0.000000        0.0  \n",
       "3                   -5.00            0.000000           0.000000        0.0  \n",
       "4                  -35.96            0.727273           0.349618       11.0  \n",
       "\n",
       "[5 rows x 27 columns]"
      ]
     },
     "execution_count": 74,
     "metadata": {},
     "output_type": "execute_result"
    }
   ],
   "source": [
    "data_df.head()"
   ]
  },
  {
   "cell_type": "code",
   "execution_count": 75,
   "metadata": {},
   "outputs": [
    {
     "data": {
      "text/plain": [
       "['status',\n",
       " 'propertystate',\n",
       " 'loanpurpose',\n",
       " 'repaymenttype',\n",
       " 'loanusage',\n",
       " 'ratetype',\n",
       " 'loanamount',\n",
       " 'loantovalueratio',\n",
       " 'applicationtype',\n",
       " 'agecreatedon',\n",
       " 'hasduplicate',\n",
       " 'loanpercentdifference',\n",
       " 'datedifference',\n",
       " 'sessioncount',\n",
       " 'visitdays',\n",
       " 'daysjourney',\n",
       " 'landingpage',\n",
       " 'finalpage',\n",
       " 'pagesvisited',\n",
       " 'howentered',\n",
       " 'conversionpathlen',\n",
       " 'financialinstitutionmode',\n",
       " 'transactioncategorymode',\n",
       " 'transactionamountmedian',\n",
       " 'chatratedpercentage',\n",
       " 'chatsentimentmean',\n",
       " 'chatlength']"
      ]
     },
     "execution_count": 75,
     "metadata": {},
     "output_type": "execute_result"
    }
   ],
   "source": [
    "list(data_df)"
   ]
  },
  {
   "cell_type": "code",
   "execution_count": 76,
   "metadata": {},
   "outputs": [],
   "source": [
    "X_meta = data_df[['propertystate',\n",
    " 'loanpurpose',\n",
    " 'repaymenttype',\n",
    " 'loanusage',\n",
    " 'ratetype',\n",
    " 'loanamount',\n",
    " 'loantovalueratio',\n",
    " 'applicationtype',\n",
    " 'agecreatedon',\n",
    " 'hasduplicate',\n",
    " 'loanpercentdifference',\n",
    " 'datedifference',\n",
    " 'sessioncount',\n",
    " 'visitdays',\n",
    " 'daysjourney',\n",
    " 'landingpage',\n",
    " 'finalpage',\n",
    " 'pagesvisited',\n",
    " 'howentered',\n",
    " 'conversionpathlen',\n",
    " 'financialinstitutionmode',\n",
    " 'transactioncategorymode',\n",
    " 'transactionamountmedian',\n",
    " 'chatratedpercentage',\n",
    " 'chatsentimentmean',\n",
    " 'chatlength']]\n",
    "Y_meta = data_df['status']"
   ]
  },
  {
   "cell_type": "code",
   "execution_count": 77,
   "metadata": {},
   "outputs": [],
   "source": [
    "categorical_columns = X_meta.select_dtypes(include=['object'])"
   ]
  },
  {
   "cell_type": "code",
   "execution_count": 78,
   "metadata": {},
   "outputs": [],
   "source": [
    "numerical_columns = X_meta.select_dtypes(exclude = ['object'])"
   ]
  },
  {
   "cell_type": "code",
   "execution_count": 79,
   "metadata": {},
   "outputs": [
    {
     "data": {
      "text/plain": [
       "['loanamount',\n",
       " 'loantovalueratio',\n",
       " 'agecreatedon',\n",
       " 'hasduplicate',\n",
       " 'loanpercentdifference',\n",
       " 'datedifference',\n",
       " 'sessioncount',\n",
       " 'visitdays',\n",
       " 'daysjourney',\n",
       " 'pagesvisited',\n",
       " 'conversionpathlen',\n",
       " 'transactionamountmedian',\n",
       " 'chatratedpercentage',\n",
       " 'chatsentimentmean',\n",
       " 'chatlength']"
      ]
     },
     "execution_count": 79,
     "metadata": {},
     "output_type": "execute_result"
    }
   ],
   "source": [
    "list(numerical_columns)"
   ]
  },
  {
   "cell_type": "code",
   "execution_count": 80,
   "metadata": {},
   "outputs": [
    {
     "data": {
      "text/html": [
       "<div>\n",
       "<style scoped>\n",
       "    .dataframe tbody tr th:only-of-type {\n",
       "        vertical-align: middle;\n",
       "    }\n",
       "\n",
       "    .dataframe tbody tr th {\n",
       "        vertical-align: top;\n",
       "    }\n",
       "\n",
       "    .dataframe thead th {\n",
       "        text-align: right;\n",
       "    }\n",
       "</style>\n",
       "<table border=\"1\" class=\"dataframe\">\n",
       "  <thead>\n",
       "    <tr style=\"text-align: right;\">\n",
       "      <th></th>\n",
       "      <th>loanamount</th>\n",
       "      <th>loantovalueratio</th>\n",
       "      <th>agecreatedon</th>\n",
       "      <th>hasduplicate</th>\n",
       "      <th>loanpercentdifference</th>\n",
       "      <th>datedifference</th>\n",
       "      <th>sessioncount</th>\n",
       "      <th>visitdays</th>\n",
       "      <th>daysjourney</th>\n",
       "      <th>pagesvisited</th>\n",
       "      <th>...</th>\n",
       "      <th>transactioncategorymode_IncomeInterestIncome</th>\n",
       "      <th>transactioncategorymode_IncomeInvestmentRetirementIncome</th>\n",
       "      <th>transactioncategorymode_IncomeOtherIncome</th>\n",
       "      <th>transactioncategorymode_IncomeRefundsAdjustments</th>\n",
       "      <th>transactioncategorymode_IncomeSalaryRegularIncome</th>\n",
       "      <th>transactioncategorymode_IncomeSalesServiceIncome</th>\n",
       "      <th>transactioncategorymode_None</th>\n",
       "      <th>transactioncategorymode_TransferCreditCardPayments</th>\n",
       "      <th>transactioncategorymode_TransferSavings</th>\n",
       "      <th>transactioncategorymode_TransferTransfers</th>\n",
       "    </tr>\n",
       "  </thead>\n",
       "  <tbody>\n",
       "    <tr>\n",
       "      <th>0</th>\n",
       "      <td>12.917403</td>\n",
       "      <td>0.657669</td>\n",
       "      <td>32.0</td>\n",
       "      <td>False</td>\n",
       "      <td>0.0</td>\n",
       "      <td>0.0</td>\n",
       "      <td>1.0</td>\n",
       "      <td>1.0</td>\n",
       "      <td>0.0</td>\n",
       "      <td>1.0</td>\n",
       "      <td>...</td>\n",
       "      <td>0</td>\n",
       "      <td>0</td>\n",
       "      <td>0</td>\n",
       "      <td>0</td>\n",
       "      <td>0</td>\n",
       "      <td>0</td>\n",
       "      <td>0</td>\n",
       "      <td>1</td>\n",
       "      <td>0</td>\n",
       "      <td>0</td>\n",
       "    </tr>\n",
       "    <tr>\n",
       "      <th>1</th>\n",
       "      <td>13.575731</td>\n",
       "      <td>0.619600</td>\n",
       "      <td>72.0</td>\n",
       "      <td>False</td>\n",
       "      <td>0.0</td>\n",
       "      <td>0.0</td>\n",
       "      <td>1.0</td>\n",
       "      <td>1.0</td>\n",
       "      <td>0.0</td>\n",
       "      <td>1.0</td>\n",
       "      <td>...</td>\n",
       "      <td>0</td>\n",
       "      <td>0</td>\n",
       "      <td>0</td>\n",
       "      <td>0</td>\n",
       "      <td>0</td>\n",
       "      <td>0</td>\n",
       "      <td>1</td>\n",
       "      <td>0</td>\n",
       "      <td>0</td>\n",
       "      <td>0</td>\n",
       "    </tr>\n",
       "    <tr>\n",
       "      <th>2</th>\n",
       "      <td>12.681971</td>\n",
       "      <td>0.794400</td>\n",
       "      <td>42.0</td>\n",
       "      <td>False</td>\n",
       "      <td>0.0</td>\n",
       "      <td>0.0</td>\n",
       "      <td>4.0</td>\n",
       "      <td>3.0</td>\n",
       "      <td>7.0</td>\n",
       "      <td>2.0</td>\n",
       "      <td>...</td>\n",
       "      <td>0</td>\n",
       "      <td>0</td>\n",
       "      <td>0</td>\n",
       "      <td>0</td>\n",
       "      <td>0</td>\n",
       "      <td>0</td>\n",
       "      <td>0</td>\n",
       "      <td>0</td>\n",
       "      <td>0</td>\n",
       "      <td>0</td>\n",
       "    </tr>\n",
       "    <tr>\n",
       "      <th>3</th>\n",
       "      <td>12.980556</td>\n",
       "      <td>0.494100</td>\n",
       "      <td>30.0</td>\n",
       "      <td>False</td>\n",
       "      <td>0.0</td>\n",
       "      <td>0.0</td>\n",
       "      <td>1.0</td>\n",
       "      <td>1.0</td>\n",
       "      <td>0.0</td>\n",
       "      <td>1.0</td>\n",
       "      <td>...</td>\n",
       "      <td>0</td>\n",
       "      <td>0</td>\n",
       "      <td>0</td>\n",
       "      <td>0</td>\n",
       "      <td>0</td>\n",
       "      <td>0</td>\n",
       "      <td>0</td>\n",
       "      <td>0</td>\n",
       "      <td>0</td>\n",
       "      <td>1</td>\n",
       "    </tr>\n",
       "    <tr>\n",
       "      <th>4</th>\n",
       "      <td>12.282987</td>\n",
       "      <td>0.160800</td>\n",
       "      <td>65.0</td>\n",
       "      <td>False</td>\n",
       "      <td>0.0</td>\n",
       "      <td>0.0</td>\n",
       "      <td>8.0</td>\n",
       "      <td>4.0</td>\n",
       "      <td>15.0</td>\n",
       "      <td>6.0</td>\n",
       "      <td>...</td>\n",
       "      <td>0</td>\n",
       "      <td>0</td>\n",
       "      <td>0</td>\n",
       "      <td>0</td>\n",
       "      <td>0</td>\n",
       "      <td>0</td>\n",
       "      <td>0</td>\n",
       "      <td>0</td>\n",
       "      <td>0</td>\n",
       "      <td>0</td>\n",
       "    </tr>\n",
       "  </tbody>\n",
       "</table>\n",
       "<p>5 rows × 165 columns</p>\n",
       "</div>"
      ],
      "text/plain": [
       "   loanamount  loantovalueratio  agecreatedon  hasduplicate  \\\n",
       "0   12.917403          0.657669          32.0         False   \n",
       "1   13.575731          0.619600          72.0         False   \n",
       "2   12.681971          0.794400          42.0         False   \n",
       "3   12.980556          0.494100          30.0         False   \n",
       "4   12.282987          0.160800          65.0         False   \n",
       "\n",
       "   loanpercentdifference  datedifference  sessioncount  visitdays  \\\n",
       "0                    0.0             0.0           1.0        1.0   \n",
       "1                    0.0             0.0           1.0        1.0   \n",
       "2                    0.0             0.0           4.0        3.0   \n",
       "3                    0.0             0.0           1.0        1.0   \n",
       "4                    0.0             0.0           8.0        4.0   \n",
       "\n",
       "   daysjourney  pagesvisited  ...  \\\n",
       "0          0.0           1.0  ...   \n",
       "1          0.0           1.0  ...   \n",
       "2          7.0           2.0  ...   \n",
       "3          0.0           1.0  ...   \n",
       "4         15.0           6.0  ...   \n",
       "\n",
       "   transactioncategorymode_IncomeInterestIncome  \\\n",
       "0                                             0   \n",
       "1                                             0   \n",
       "2                                             0   \n",
       "3                                             0   \n",
       "4                                             0   \n",
       "\n",
       "   transactioncategorymode_IncomeInvestmentRetirementIncome  \\\n",
       "0                                                  0          \n",
       "1                                                  0          \n",
       "2                                                  0          \n",
       "3                                                  0          \n",
       "4                                                  0          \n",
       "\n",
       "   transactioncategorymode_IncomeOtherIncome  \\\n",
       "0                                          0   \n",
       "1                                          0   \n",
       "2                                          0   \n",
       "3                                          0   \n",
       "4                                          0   \n",
       "\n",
       "   transactioncategorymode_IncomeRefundsAdjustments  \\\n",
       "0                                                 0   \n",
       "1                                                 0   \n",
       "2                                                 0   \n",
       "3                                                 0   \n",
       "4                                                 0   \n",
       "\n",
       "   transactioncategorymode_IncomeSalaryRegularIncome  \\\n",
       "0                                                  0   \n",
       "1                                                  0   \n",
       "2                                                  0   \n",
       "3                                                  0   \n",
       "4                                                  0   \n",
       "\n",
       "   transactioncategorymode_IncomeSalesServiceIncome  \\\n",
       "0                                                 0   \n",
       "1                                                 0   \n",
       "2                                                 0   \n",
       "3                                                 0   \n",
       "4                                                 0   \n",
       "\n",
       "   transactioncategorymode_None  \\\n",
       "0                             0   \n",
       "1                             1   \n",
       "2                             0   \n",
       "3                             0   \n",
       "4                             0   \n",
       "\n",
       "   transactioncategorymode_TransferCreditCardPayments  \\\n",
       "0                                                  1    \n",
       "1                                                  0    \n",
       "2                                                  0    \n",
       "3                                                  0    \n",
       "4                                                  0    \n",
       "\n",
       "   transactioncategorymode_TransferSavings  \\\n",
       "0                                        0   \n",
       "1                                        0   \n",
       "2                                        0   \n",
       "3                                        0   \n",
       "4                                        0   \n",
       "\n",
       "   transactioncategorymode_TransferTransfers  \n",
       "0                                          0  \n",
       "1                                          0  \n",
       "2                                          0  \n",
       "3                                          1  \n",
       "4                                          0  \n",
       "\n",
       "[5 rows x 165 columns]"
      ]
     },
     "execution_count": 80,
     "metadata": {},
     "output_type": "execute_result"
    }
   ],
   "source": [
    "one_hot = pd.get_dummies(categorical_columns)\n",
    "# Join the encoded df\n",
    "X_meta = numerical_columns.join(one_hot)\n",
    "X_meta.head()\n"
   ]
  },
  {
   "cell_type": "code",
   "execution_count": 81,
   "metadata": {},
   "outputs": [
    {
     "data": {
      "text/plain": [
       "['loanamount',\n",
       " 'loantovalueratio',\n",
       " 'agecreatedon',\n",
       " 'hasduplicate',\n",
       " 'loanpercentdifference',\n",
       " 'datedifference',\n",
       " 'sessioncount',\n",
       " 'visitdays',\n",
       " 'daysjourney',\n",
       " 'pagesvisited',\n",
       " 'conversionpathlen',\n",
       " 'transactionamountmedian',\n",
       " 'chatratedpercentage',\n",
       " 'chatsentimentmean',\n",
       " 'chatlength',\n",
       " 'propertystate_ACT',\n",
       " 'propertystate_NSW',\n",
       " 'propertystate_NT',\n",
       " 'propertystate_QLD',\n",
       " 'propertystate_SA',\n",
       " 'propertystate_TAS',\n",
       " 'propertystate_VIC',\n",
       " 'propertystate_WA',\n",
       " 'loanpurpose_PUR',\n",
       " 'loanpurpose_REF',\n",
       " 'repaymenttype_Interest Only',\n",
       " 'repaymenttype_Principal & Interest',\n",
       " 'loanusage_investment',\n",
       " 'loanusage_livein',\n",
       " 'ratetype_fixed',\n",
       " 'ratetype_variable',\n",
       " 'applicationtype_JOINT',\n",
       " 'applicationtype_SINGLE',\n",
       " 'landingpage_(not set)',\n",
       " 'landingpage_None',\n",
       " 'landingpage_a smarter online home loan',\n",
       " 'landingpage_am i eligible for a tic:toc loan?',\n",
       " 'landingpage_calculators',\n",
       " 'landingpage_get your instant fix | tic:toc',\n",
       " 'landingpage_home',\n",
       " 'landingpage_home loans made simple',\n",
       " 'landingpage_home |  worlds first instant home loan',\n",
       " 'landingpage_low freq',\n",
       " 'landingpage_our home loans',\n",
       " 'landingpage_our home loans | tic:toc',\n",
       " 'landingpage_own your home loan | tic:toc',\n",
       " 'landingpage_rates  fees',\n",
       " 'landingpage_rates  fees | tic:toc',\n",
       " 'landingpage_worlds first instant home loan',\n",
       " 'finalpage_(Odd)',\n",
       " 'finalpage_None',\n",
       " 'finalpage_a smarter online home loan',\n",
       " 'finalpage_about us: smart technology, smart people',\n",
       " 'finalpage_am i eligible for a tic:toc loan?',\n",
       " 'finalpage_calculators',\n",
       " 'finalpage_frequently asked questions',\n",
       " 'finalpage_home',\n",
       " 'finalpage_home loans made simple',\n",
       " 'finalpage_home |  worlds first instant home loan',\n",
       " 'finalpage_instant decision',\n",
       " 'finalpage_low freq',\n",
       " 'finalpage_more on your financials (we#x2019;re nearly re)',\n",
       " 'finalpage_need help or want to chat? livechat, phone, or email us',\n",
       " 'finalpage_our home loans',\n",
       " 'finalpage_our home loans | tic:toc',\n",
       " 'finalpage_own your home loan | tic:toc',\n",
       " 'finalpage_rates  fees',\n",
       " 'finalpage_rates  fees | tic:toc',\n",
       " 'finalpage_settlement with tic:toc',\n",
       " 'finalpage_tic:toc online banking login',\n",
       " 'finalpage_worlds first instant home loan',\n",
       " 'howentered_Affiliates',\n",
       " 'howentered_Direct',\n",
       " 'howentered_Display',\n",
       " 'howentered_LiveChat',\n",
       " 'howentered_Native',\n",
       " 'howentered_None',\n",
       " 'howentered_OrganicSearch',\n",
       " 'howentered_PaidSearch',\n",
       " 'howentered_Referral',\n",
       " 'howentered_SaveResume',\n",
       " 'howentered_Social',\n",
       " 'financialinstitutionmode_28 Degrees MasterCard',\n",
       " 'financialinstitutionmode_AFG Home Loans Retro/Direct',\n",
       " 'financialinstitutionmode_AMP',\n",
       " 'financialinstitutionmode_ANZ',\n",
       " 'financialinstitutionmode_Adelaide Bank',\n",
       " 'financialinstitutionmode_American Express Cards',\n",
       " 'financialinstitutionmode_BOQ Specialist',\n",
       " 'financialinstitutionmode_Bank Australia',\n",
       " 'financialinstitutionmode_Bank First',\n",
       " 'financialinstitutionmode_Bank of Melbourne',\n",
       " 'financialinstitutionmode_Bank of Queensland',\n",
       " 'financialinstitutionmode_Bank of sydney Personal Bank',\n",
       " 'financialinstitutionmode_BankSA',\n",
       " 'financialinstitutionmode_BankVic',\n",
       " 'financialinstitutionmode_BankWest',\n",
       " 'financialinstitutionmode_Bendigo Bank',\n",
       " 'financialinstitutionmode_Beyond Bank',\n",
       " 'financialinstitutionmode_Big Sky',\n",
       " 'financialinstitutionmode_CUA',\n",
       " 'financialinstitutionmode_CardServices Online',\n",
       " 'financialinstitutionmode_Citibank',\n",
       " 'financialinstitutionmode_Coles MasterCard',\n",
       " 'financialinstitutionmode_Commonwealth Bank CBA',\n",
       " 'financialinstitutionmode_David Jones (American Express Card)',\n",
       " 'financialinstitutionmode_Defence Bank',\n",
       " 'financialinstitutionmode_Firstmac',\n",
       " 'financialinstitutionmode_Greater Bank',\n",
       " 'financialinstitutionmode_HSBC Bank',\n",
       " 'financialinstitutionmode_Heritage Bank',\n",
       " 'financialinstitutionmode_IMB Building Society',\n",
       " 'financialinstitutionmode_ING',\n",
       " 'financialinstitutionmode_Loans.Com.AU',\n",
       " 'financialinstitutionmode_Macquarie Bank',\n",
       " 'financialinstitutionmode_Members Equity Bank (ME Bank)',\n",
       " 'financialinstitutionmode_MyState Bank',\n",
       " 'financialinstitutionmode_Mystate(Personal)',\n",
       " 'financialinstitutionmode_NAB Internet',\n",
       " 'financialinstitutionmode_Newcastle Permanent',\n",
       " 'financialinstitutionmode_None',\n",
       " 'financialinstitutionmode_PN Bank',\n",
       " 'financialinstitutionmode_Peoples Choice CU',\n",
       " 'financialinstitutionmode_Police CU',\n",
       " 'financialinstitutionmode_Qantas Money',\n",
       " 'financialinstitutionmode_Qudos Bank',\n",
       " 'financialinstitutionmode_RACQ Bank',\n",
       " 'financialinstitutionmode_RAMS',\n",
       " 'financialinstitutionmode_St. George Bank',\n",
       " 'financialinstitutionmode_State Custodians',\n",
       " 'financialinstitutionmode_Suncorp',\n",
       " 'financialinstitutionmode_Teachers Mutual Bank',\n",
       " 'financialinstitutionmode_UBank',\n",
       " 'financialinstitutionmode_Unity Bank',\n",
       " 'financialinstitutionmode_Westpac',\n",
       " 'financialinstitutionmode_Woolworths Everyday Money Credit Card',\n",
       " 'transactioncategorymode_ExpensesAtmCashWithdraws',\n",
       " 'transactioncategorymode_ExpensesAutomotiveFuel',\n",
       " 'transactioncategorymode_ExpensesCableSatelliteTelecom',\n",
       " 'transactioncategorymode_ExpensesElectronicsGeneralMerchandise',\n",
       " 'transactioncategorymode_ExpensesEntertainmentRecreation',\n",
       " 'transactioncategorymode_ExpensesGroceries',\n",
       " 'transactioncategorymode_ExpensesHomeImprovement',\n",
       " 'transactioncategorymode_ExpensesInsurance',\n",
       " 'transactioncategorymode_ExpensesLoans',\n",
       " 'transactioncategorymode_ExpensesOfficeExpenses',\n",
       " 'transactioncategorymode_ExpensesOtherExpenses',\n",
       " 'transactioncategorymode_ExpensesPersonalFamily',\n",
       " 'transactioncategorymode_ExpensesRestaurants',\n",
       " 'transactioncategorymode_ExpensesServiceChargesFees',\n",
       " 'transactioncategorymode_ExpensesServicesSupplies',\n",
       " 'transactioncategorymode_ExpensesTravel',\n",
       " 'transactioncategorymode_ExpensesUtilities',\n",
       " 'transactioncategorymode_GeneralUncategorized',\n",
       " 'transactioncategorymode_IncomeDeposits',\n",
       " 'transactioncategorymode_IncomeInterestIncome',\n",
       " 'transactioncategorymode_IncomeInvestmentRetirementIncome',\n",
       " 'transactioncategorymode_IncomeOtherIncome',\n",
       " 'transactioncategorymode_IncomeRefundsAdjustments',\n",
       " 'transactioncategorymode_IncomeSalaryRegularIncome',\n",
       " 'transactioncategorymode_IncomeSalesServiceIncome',\n",
       " 'transactioncategorymode_None',\n",
       " 'transactioncategorymode_TransferCreditCardPayments',\n",
       " 'transactioncategorymode_TransferSavings',\n",
       " 'transactioncategorymode_TransferTransfers']"
      ]
     },
     "execution_count": 81,
     "metadata": {},
     "output_type": "execute_result"
    }
   ],
   "source": [
    "list(X_meta)"
   ]
  },
  {
   "cell_type": "code",
   "execution_count": 82,
   "metadata": {},
   "outputs": [],
   "source": [
    "X_meta = X_meta.values"
   ]
  },
  {
   "cell_type": "code",
   "execution_count": 83,
   "metadata": {},
   "outputs": [],
   "source": [
    "from sklearn import preprocessing\n",
    "\n",
    "# label_encoder object knows how to understand word labels.\n",
    "label_encoder = preprocessing.LabelEncoder()\n",
    "\n",
    "# Encode labels in column 'species'.\n",
    "Y_meta = label_encoder.fit_transform(Y_meta)\n",
    "\n",
    "X2_train, X2_test, y2_train, y2_test = train_test_split(X_meta, Y_meta, test_size=0.20, random_state=42)\n",
    "\n",
    "from keras.utils import to_categorical\n",
    "y2_train = to_categorical(y2_train)\n",
    "y2_test = to_categorical(y2_test)"
   ]
  },
  {
   "cell_type": "code",
   "execution_count": 84,
   "metadata": {},
   "outputs": [
    {
     "data": {
      "text/plain": [
       "(2067, 165)"
      ]
     },
     "execution_count": 84,
     "metadata": {},
     "output_type": "execute_result"
    }
   ],
   "source": [
    "X2_train.shape"
   ]
  },
  {
   "cell_type": "code",
   "execution_count": 85,
   "metadata": {},
   "outputs": [
    {
     "data": {
      "text/plain": [
       "array([[0., 1.],\n",
       "       [0., 1.],\n",
       "       [0., 1.],\n",
       "       ...,\n",
       "       [0., 1.],\n",
       "       [0., 1.],\n",
       "       [0., 1.]], dtype=float32)"
      ]
     },
     "execution_count": 85,
     "metadata": {},
     "output_type": "execute_result"
    }
   ],
   "source": [
    "y2_train"
   ]
  },
  {
   "cell_type": "code",
   "execution_count": 86,
   "metadata": {},
   "outputs": [
    {
     "data": {
      "text/plain": [
       "(2584, 165)"
      ]
     },
     "execution_count": 86,
     "metadata": {},
     "output_type": "execute_result"
    }
   ],
   "source": [
    "X_meta.shape"
   ]
  },
  {
   "cell_type": "code",
   "execution_count": null,
   "metadata": {},
   "outputs": [],
   "source": []
  },
  {
   "cell_type": "code",
   "execution_count": 87,
   "metadata": {},
   "outputs": [],
   "source": [
    "input2 = Input(shape=(165,))\n",
    "dense_layer_1 = Dense(10, activation='relu')(input2)\n",
    "dense_layer_2 = Dense(10, activation='relu')(dense_layer_1)\n",
    "output = Dense(2, activation='softmax')(dense_layer_2)\n",
    "\n",
    "model3 = Model(inputs=input2, outputs=output)\n",
    "model3.compile(loss='categorical_crossentropy', optimizer='adam', metrics=['acc'])"
   ]
  },
  {
   "cell_type": "code",
   "execution_count": 88,
   "metadata": {},
   "outputs": [
    {
     "name": "stdout",
     "output_type": "stream",
     "text": [
      "Model: \"model_3\"\n",
      "_________________________________________________________________\n",
      "Layer (type)                 Output Shape              Param #   \n",
      "=================================================================\n",
      "input_3 (InputLayer)         (None, 165)               0         \n",
      "_________________________________________________________________\n",
      "dense_3 (Dense)              (None, 10)                1660      \n",
      "_________________________________________________________________\n",
      "dense_4 (Dense)              (None, 10)                110       \n",
      "_________________________________________________________________\n",
      "dense_5 (Dense)              (None, 2)                 22        \n",
      "=================================================================\n",
      "Total params: 1,792\n",
      "Trainable params: 1,792\n",
      "Non-trainable params: 0\n",
      "_________________________________________________________________\n",
      "None\n"
     ]
    }
   ],
   "source": [
    "print(model3.summary())"
   ]
  },
  {
   "cell_type": "code",
   "execution_count": 89,
   "metadata": {},
   "outputs": [
    {
     "data": {
      "image/png": "[encoded data removed]",
      "text/plain": [
       "<IPython.core.display.Image object>"
      ]
     },
     "execution_count": 89,
     "metadata": {},
     "output_type": "execute_result"
    }
   ],
   "source": [
    "from keras.utils import plot_model\n",
    "plot_model(model3, to_file='model_plot4.png', show_shapes=True, show_layer_names=True)"
   ]
  },
  {
   "cell_type": "code",
   "execution_count": 90,
   "metadata": {},
   "outputs": [
    {
     "name": "stdout",
     "output_type": "stream",
     "text": [
      "Train on 1653 samples, validate on 414 samples\n",
      "Epoch 1/10\n",
      "1653/1653 [==============================] - 0s 134us/step - loss: 1.0409 - acc: 0.7024 - val_loss: 0.6045 - val_acc: 0.7198\n",
      "Epoch 2/10\n",
      "1653/1653 [==============================] - 0s 83us/step - loss: 0.6329 - acc: 0.7423 - val_loss: 0.5838 - val_acc: 0.7150\n",
      "Epoch 3/10\n",
      "1653/1653 [==============================] - 0s 97us/step - loss: 0.5593 - acc: 0.7495 - val_loss: 0.5221 - val_acc: 0.7343\n",
      "Epoch 4/10\n",
      "1653/1653 [==============================] - 0s 92us/step - loss: 0.5143 - acc: 0.7750 - val_loss: 0.5088 - val_acc: 0.7464\n",
      "Epoch 5/10\n",
      "1653/1653 [==============================] - 0s 80us/step - loss: 0.4883 - acc: 0.7828 - val_loss: 0.5263 - val_acc: 0.7295\n",
      "Epoch 6/10\n",
      "1653/1653 [==============================] - 0s 86us/step - loss: 0.4763 - acc: 0.7816 - val_loss: 0.4859 - val_acc: 0.7609\n",
      "Epoch 7/10\n",
      "1653/1653 [==============================] - 0s 66us/step - loss: 0.4663 - acc: 0.7852 - val_loss: 0.4900 - val_acc: 0.7560\n",
      "Epoch 8/10\n",
      "1653/1653 [==============================] - 0s 88us/step - loss: 0.4515 - acc: 0.7955 - val_loss: 0.4909 - val_acc: 0.7633\n",
      "Epoch 9/10\n",
      "1653/1653 [==============================] - 0s 82us/step - loss: 0.4522 - acc: 0.7992 - val_loss: 0.4692 - val_acc: 0.7826\n",
      "Epoch 10/10\n",
      "1653/1653 [==============================] - 0s 79us/step - loss: 0.4471 - acc: 0.8004 - val_loss: 0.4762 - val_acc: 0.7657\n"
     ]
    }
   ],
   "source": [
    "history3 = model3.fit(X2_train, y2_train, batch_size=16, epochs=10, verbose=1, validation_split=0.2)"
   ]
  },
  {
   "cell_type": "code",
   "execution_count": 91,
   "metadata": {},
   "outputs": [
    {
     "name": "stdout",
     "output_type": "stream",
     "text": [
      "517/517 [==============================] - 0s 27us/step\n",
      "Test Score: 0.4535879584991263\n",
      "Test Accuracy: 0.8046421408653259\n"
     ]
    }
   ],
   "source": [
    "score = model3.evaluate(X2_test, y2_test, verbose=1)\n",
    "\n",
    "print(\"Test Score:\", score[0])\n",
    "print(\"Test Accuracy:\", score[1])"
   ]
  },
  {
   "cell_type": "code",
   "execution_count": 92,
   "metadata": {},
   "outputs": [
    {
     "data": {
      "image/png": "[encoded data removed]",
      "text/plain": [
       "<Figure size 432x288 with 1 Axes>"
      ]
     },
     "metadata": {
      "needs_background": "light"
     },
     "output_type": "display_data"
    },
    {
     "data": {
      "image/png": "[encoded data removed]",
      "text/plain": [
       "<Figure size 432x288 with 1 Axes>"
      ]
     },
     "metadata": {
      "needs_background": "light"
     },
     "output_type": "display_data"
    }
   ],
   "source": [
    "import matplotlib.pyplot as plt\n",
    "\n",
    "plt.plot(history3.history['acc'])\n",
    "plt.plot(history3.history['val_acc'])\n",
    "\n",
    "plt.title('model accuracy')\n",
    "plt.ylabel('accuracy')\n",
    "plt.xlabel('epoch')\n",
    "plt.legend(['train','test'], loc='upper left')\n",
    "plt.show()\n",
    "\n",
    "plt.plot(history3.history['loss'])\n",
    "plt.plot(history3.history['val_loss'])\n",
    "\n",
    "plt.title('model loss')\n",
    "plt.ylabel('loss')\n",
    "plt.xlabel('epoch')\n",
    "plt.legend(['train','test'], loc='upper left')\n",
    "plt.show()"
   ]
  },
  {
   "cell_type": "markdown",
   "metadata": {},
   "source": [
    "# Creating a model with multiple Inputs"
   ]
  },
  {
   "cell_type": "code",
   "execution_count": 93,
   "metadata": {},
   "outputs": [],
   "source": [
    "X_all = data_df.drop('status', axis=1)\n",
    "\n",
    "y_all = data_df['status']"
   ]
  },
  {
   "cell_type": "code",
   "execution_count": 94,
   "metadata": {},
   "outputs": [],
   "source": [
    "input_1 = deep_inputs"
   ]
  },
  {
   "cell_type": "code",
   "execution_count": 95,
   "metadata": {},
   "outputs": [],
   "source": [
    "input_2 = deep_inputs1"
   ]
  },
  {
   "cell_type": "code",
   "execution_count": 96,
   "metadata": {},
   "outputs": [],
   "source": [
    "input_3 = input2"
   ]
  },
  {
   "cell_type": "code",
   "execution_count": 97,
   "metadata": {},
   "outputs": [],
   "source": [
    "embedding_layer = Embedding(vocab_size, 9, weights=[embedding_matrix], trainable=False)(deep_inputs)\n",
    "LSTM_Layer_1 = LSTM(128)(embedding_layer)"
   ]
  },
  {
   "cell_type": "code",
   "execution_count": 98,
   "metadata": {},
   "outputs": [],
   "source": [
    "embedding_layer1 = Embedding(vocab_size1, 16, weights=[embedding_matrix1], trainable=False)(deep_inputs1)\n",
    "LSTM1_Layer_1 = LSTM(128)(embedding_layer1)"
   ]
  },
  {
   "cell_type": "code",
   "execution_count": 99,
   "metadata": {},
   "outputs": [],
   "source": [
    "dense_layer_1 = Dense(10, activation='relu')(input2)\n",
    "dense_layer_2 = Dense(10, activation='relu')(dense_layer_1)"
   ]
  },
  {
   "cell_type": "code",
   "execution_count": 100,
   "metadata": {},
   "outputs": [],
   "source": [
    "concat_layer = Concatenate()([LSTM_Layer_1, LSTM1_Layer_1, dense_layer_2])\n",
    "dense_layer_3 = Dense(10, activation='relu')(concat_layer)\n",
    "output = Dense(2, activation='softmax')(dense_layer_3)\n",
    "model = Model(inputs=[input_1, input_2, input_3], outputs=output)"
   ]
  },
  {
   "cell_type": "code",
   "execution_count": 101,
   "metadata": {},
   "outputs": [
    {
     "name": "stdout",
     "output_type": "stream",
     "text": [
      "Model: \"model_4\"\n",
      "__________________________________________________________________________________________________\n",
      "Layer (type)                    Output Shape         Param #     Connected to                     \n",
      "==================================================================================================\n",
      "input_1 (InputLayer)            (None, 9)            0                                            \n",
      "__________________________________________________________________________________________________\n",
      "input_2 (InputLayer)            (None, 16)           0                                            \n",
      "__________________________________________________________________________________________________\n",
      "input_3 (InputLayer)            (None, 165)          0                                            \n",
      "__________________________________________________________________________________________________\n",
      "embedding_3 (Embedding)         (None, 9, 9)         3470976     input_1[0][0]                    \n",
      "__________________________________________________________________________________________________\n",
      "embedding_4 (Embedding)         (None, 16, 16)       9713408     input_2[0][0]                    \n",
      "__________________________________________________________________________________________________\n",
      "dense_6 (Dense)                 (None, 10)           1660        input_3[0][0]                    \n",
      "__________________________________________________________________________________________________\n",
      "lstm_3 (LSTM)                   (None, 128)          70656       embedding_3[0][0]                \n",
      "__________________________________________________________________________________________________\n",
      "lstm_4 (LSTM)                   (None, 128)          74240       embedding_4[0][0]                \n",
      "__________________________________________________________________________________________________\n",
      "dense_7 (Dense)                 (None, 10)           110         dense_6[0][0]                    \n",
      "__________________________________________________________________________________________________\n",
      "concatenate_1 (Concatenate)     (None, 266)          0           lstm_3[0][0]                     \n",
      "                                                                 lstm_4[0][0]                     \n",
      "                                                                 dense_7[0][0]                    \n",
      "__________________________________________________________________________________________________\n",
      "dense_8 (Dense)                 (None, 10)           2670        concatenate_1[0][0]              \n",
      "__________________________________________________________________________________________________\n",
      "dense_9 (Dense)                 (None, 2)            22          dense_8[0][0]                    \n",
      "==================================================================================================\n",
      "Total params: 13,333,742\n",
      "Trainable params: 149,358\n",
      "Non-trainable params: 13,184,384\n",
      "__________________________________________________________________________________________________\n",
      "None\n"
     ]
    }
   ],
   "source": [
    "model.compile(loss='categorical_crossentropy', optimizer='adam', metrics=['acc'])\n",
    "print(model.summary())"
   ]
  },
  {
   "cell_type": "code",
   "execution_count": 102,
   "metadata": {},
   "outputs": [
    {
     "data": {
      "image/png": "[encoded data removed]",
      "text/plain": [
       "<IPython.core.display.Image object>"
      ]
     },
     "execution_count": 102,
     "metadata": {},
     "output_type": "execute_result"
    }
   ],
   "source": [
    "from keras.utils import plot_model\n",
    "plot_model(model, to_file='model_plot10.png', show_shapes=True, show_layer_names=True)"
   ]
  },
  {
   "cell_type": "code",
   "execution_count": 103,
   "metadata": {},
   "outputs": [],
   "source": [
    "chat_sample = chat_df.sample(frac =.5).reset_index(drop=True)"
   ]
  },
  {
   "cell_type": "code",
   "execution_count": 104,
   "metadata": {},
   "outputs": [],
   "source": [
    "X_chat = chat_sample[['chatEmbedding']].copy()\n",
    "y_chat = chat_sample[['status']].copy()"
   ]
  },
  {
   "cell_type": "code",
   "execution_count": 105,
   "metadata": {},
   "outputs": [
    {
     "data": {
      "text/html": [
       "<div>\n",
       "<style scoped>\n",
       "    .dataframe tbody tr th:only-of-type {\n",
       "        vertical-align: middle;\n",
       "    }\n",
       "\n",
       "    .dataframe tbody tr th {\n",
       "        vertical-align: top;\n",
       "    }\n",
       "\n",
       "    .dataframe thead th {\n",
       "        text-align: right;\n",
       "    }\n",
       "</style>\n",
       "<table border=\"1\" class=\"dataframe\">\n",
       "  <thead>\n",
       "    <tr style=\"text-align: right;\">\n",
       "      <th></th>\n",
       "      <th>chatEmbedding</th>\n",
       "    </tr>\n",
       "  </thead>\n",
       "  <tbody>\n",
       "    <tr>\n",
       "      <th>0</th>\n",
       "      <td>[[0.012461126, 0.026670266, 0.0038820878, 0.04...</td>\n",
       "    </tr>\n",
       "    <tr>\n",
       "      <th>1</th>\n",
       "      <td>[[-0.043281972, -0.014264904, -0.041443884, 0....</td>\n",
       "    </tr>\n",
       "    <tr>\n",
       "      <th>2</th>\n",
       "      <td>[[-0.03131336, 0.014859889, 0.017185342, 0.007...</td>\n",
       "    </tr>\n",
       "    <tr>\n",
       "      <th>3</th>\n",
       "      <td>[[-0.00550922, -0.014139641, -0.02140875, -0.0...</td>\n",
       "    </tr>\n",
       "    <tr>\n",
       "      <th>4</th>\n",
       "      <td>[[0.021142248, 0.01665027, -0.048583306, -0.02...</td>\n",
       "    </tr>\n",
       "  </tbody>\n",
       "</table>\n",
       "</div>"
      ],
      "text/plain": [
       "                                       chatEmbedding\n",
       "0  [[0.012461126, 0.026670266, 0.0038820878, 0.04...\n",
       "1  [[-0.043281972, -0.014264904, -0.041443884, 0....\n",
       "2  [[-0.03131336, 0.014859889, 0.017185342, 0.007...\n",
       "3  [[-0.00550922, -0.014139641, -0.02140875, -0.0...\n",
       "4  [[0.021142248, 0.01665027, -0.048583306, -0.02..."
      ]
     },
     "execution_count": 105,
     "metadata": {},
     "output_type": "execute_result"
    }
   ],
   "source": [
    "X_chat.head()"
   ]
  },
  {
   "cell_type": "code",
   "execution_count": 106,
   "metadata": {},
   "outputs": [],
   "source": [
    "embedding_matrix_chat = chat_sample.chatEmbedding[0]\n",
    "from itertools import repeat\n",
    "for i in range(2583):\n",
    "    embedding_matrix_chat = np.vstack((embedding_matrix_chat, chat_sample.chatEmbedding[i]))\n"
   ]
  },
  {
   "cell_type": "code",
   "execution_count": 107,
   "metadata": {},
   "outputs": [],
   "source": [
    "X_chat = embedding_matrix_chat"
   ]
  },
  {
   "cell_type": "code",
   "execution_count": 108,
   "metadata": {},
   "outputs": [
    {
     "data": {
      "text/plain": [
       "41344"
      ]
     },
     "execution_count": 108,
     "metadata": {},
     "output_type": "execute_result"
    }
   ],
   "source": [
    "len(X_chat)"
   ]
  },
  {
   "cell_type": "code",
   "execution_count": 109,
   "metadata": {},
   "outputs": [
    {
     "data": {
      "text/plain": [
       "array([[ 0.01246113,  0.02667027,  0.00388209, ..., -0.00864174,\n",
       "         0.02887807,  0.03490983],\n",
       "       [ 0.01246113,  0.02667027,  0.00388209, ..., -0.00864174,\n",
       "         0.02887807,  0.03490983],\n",
       "       [ 0.01246113,  0.02667027,  0.00388209, ..., -0.00864174,\n",
       "         0.02887807,  0.03490983],\n",
       "       ...,\n",
       "       [ 0.01246113,  0.02667027,  0.00388209, ..., -0.00864174,\n",
       "         0.02887807,  0.03490983],\n",
       "       [ 0.01246113,  0.02667027,  0.00388209, ..., -0.00864174,\n",
       "         0.02887807,  0.03490983],\n",
       "       [ 0.01246113,  0.02667027,  0.00388209, ..., -0.00864174,\n",
       "         0.02887807,  0.03490983]], dtype=float32)"
      ]
     },
     "execution_count": 109,
     "metadata": {},
     "output_type": "execute_result"
    }
   ],
   "source": [
    "X_chat"
   ]
  },
  {
   "cell_type": "code",
   "execution_count": 110,
   "metadata": {},
   "outputs": [],
   "source": [
    "y_chat = y_chat.loc[y_chat.index.repeat(16)].reset_index(drop=True)"
   ]
  },
  {
   "cell_type": "code",
   "execution_count": 111,
   "metadata": {},
   "outputs": [],
   "source": [
    "from sklearn import preprocessing\n",
    "\n",
    "# label_encoder object knows how to understand word labels.\n",
    "label_encoder = preprocessing.LabelEncoder()\n",
    "\n",
    "# Encode labels in column 'species'.\n",
    "y_chat = label_encoder.fit_transform(y_chat)"
   ]
  },
  {
   "cell_type": "code",
   "execution_count": 112,
   "metadata": {},
   "outputs": [
    {
     "data": {
      "text/plain": [
       "(41344, 9)"
      ]
     },
     "execution_count": 112,
     "metadata": {},
     "output_type": "execute_result"
    }
   ],
   "source": [
    "X_chat.shape"
   ]
  },
  {
   "cell_type": "code",
   "execution_count": 113,
   "metadata": {},
   "outputs": [
    {
     "data": {
      "text/plain": [
       "(192832,)"
      ]
     },
     "execution_count": 113,
     "metadata": {},
     "output_type": "execute_result"
    }
   ],
   "source": [
    "y_chat.shape"
   ]
  },
  {
   "cell_type": "code",
   "execution_count": 114,
   "metadata": {},
   "outputs": [],
   "source": [
    "idx = np.random.choice(np.arange(len(X_chat)), 2584, replace=False)\n",
    "x_sample = X_chat[idx]\n",
    "y_sample = y_chat[idx]"
   ]
  },
  {
   "cell_type": "code",
   "execution_count": 115,
   "metadata": {},
   "outputs": [
    {
     "data": {
      "text/plain": [
       "(2584, 9)"
      ]
     },
     "execution_count": 115,
     "metadata": {},
     "output_type": "execute_result"
    }
   ],
   "source": [
    "x_sample.shape"
   ]
  },
  {
   "cell_type": "code",
   "execution_count": 116,
   "metadata": {},
   "outputs": [
    {
     "data": {
      "text/plain": [
       "(2584,)"
      ]
     },
     "execution_count": 116,
     "metadata": {},
     "output_type": "execute_result"
    }
   ],
   "source": [
    "y_sample.shape"
   ]
  },
  {
   "cell_type": "code",
   "execution_count": 117,
   "metadata": {},
   "outputs": [],
   "source": [
    "X_train_chat, X_test_chat, y_train_chat, y_test_chat = train_test_split(x_sample, y_sample, test_size=0.20, random_state=42)"
   ]
  },
  {
   "cell_type": "code",
   "execution_count": 118,
   "metadata": {},
   "outputs": [],
   "source": [
    "X_transaction = chat_sample[['chatEmbedding']].copy()\n",
    "y_transaction = chat_sample[['status']].copy()"
   ]
  },
  {
   "cell_type": "code",
   "execution_count": 119,
   "metadata": {},
   "outputs": [
    {
     "data": {
      "text/plain": [
       "(607088, 16)"
      ]
     },
     "execution_count": 119,
     "metadata": {},
     "output_type": "execute_result"
    }
   ],
   "source": [
    "X1.shape"
   ]
  },
  {
   "cell_type": "code",
   "execution_count": 120,
   "metadata": {},
   "outputs": [
    {
     "data": {
      "text/plain": [
       "(607088,)"
      ]
     },
     "execution_count": 120,
     "metadata": {},
     "output_type": "execute_result"
    }
   ],
   "source": [
    "y1.shape"
   ]
  },
  {
   "cell_type": "code",
   "execution_count": 121,
   "metadata": {},
   "outputs": [],
   "source": [
    "idx1 = np.random.choice(np.arange(len(X1)), 2584, replace=False)\n",
    "x_trans = X1[idx1]\n",
    "y_trans = y1[idx1]"
   ]
  },
  {
   "cell_type": "code",
   "execution_count": 122,
   "metadata": {},
   "outputs": [],
   "source": [
    "X_train_trans, X_test_trans, y_train_trans, y_test_trans = train_test_split(x_trans, y_trans, test_size=0.20, random_state=42)"
   ]
  },
  {
   "cell_type": "code",
   "execution_count": 123,
   "metadata": {},
   "outputs": [
    {
     "name": "stdout",
     "output_type": "stream",
     "text": [
      "Train on 1653 samples, validate on 414 samples\n",
      "Epoch 1/10\n",
      "1653/1653 [==============================] - 1s 661us/step - loss: 0.6379 - acc: 0.7175 - val_loss: 0.5514 - val_acc: 0.7657\n",
      "Epoch 2/10\n",
      "1653/1653 [==============================] - 0s 252us/step - loss: 0.5659 - acc: 0.7429 - val_loss: 0.5554 - val_acc: 0.7609\n",
      "Epoch 3/10\n",
      "1653/1653 [==============================] - 0s 254us/step - loss: 0.5560 - acc: 0.7453 - val_loss: 0.5413 - val_acc: 0.7633\n",
      "Epoch 4/10\n",
      "1653/1653 [==============================] - 0s 251us/step - loss: 0.5516 - acc: 0.7477 - val_loss: 0.5403 - val_acc: 0.7560\n",
      "Epoch 5/10\n",
      "1653/1653 [==============================] - 0s 252us/step - loss: 0.5486 - acc: 0.7489 - val_loss: 0.5358 - val_acc: 0.7585\n",
      "Epoch 6/10\n",
      "1653/1653 [==============================] - 0s 250us/step - loss: 0.5448 - acc: 0.7459 - val_loss: 0.5343 - val_acc: 0.7536\n",
      "Epoch 7/10\n",
      "1653/1653 [==============================] - 0s 256us/step - loss: 0.5400 - acc: 0.7471 - val_loss: 0.5447 - val_acc: 0.7343\n",
      "Epoch 8/10\n",
      "1653/1653 [==============================] - 0s 259us/step - loss: 0.5384 - acc: 0.7483 - val_loss: 0.5297 - val_acc: 0.7488\n",
      "Epoch 9/10\n",
      "1653/1653 [==============================] - 0s 258us/step - loss: 0.5311 - acc: 0.7495 - val_loss: 0.5313 - val_acc: 0.7440\n",
      "Epoch 10/10\n",
      "1653/1653 [==============================] - 0s 264us/step - loss: 0.5284 - acc: 0.7502 - val_loss: 0.5282 - val_acc: 0.7319\n"
     ]
    }
   ],
   "source": [
    "history4 = model.fit(x=[X_train_chat, X_train_trans, X2_train], y=y2_train, batch_size=128, epochs=10, verbose=1, validation_split=0.2)"
   ]
  },
  {
   "cell_type": "code",
   "execution_count": 124,
   "metadata": {},
   "outputs": [
    {
     "name": "stdout",
     "output_type": "stream",
     "text": [
      "517/517 [==============================] - 0s 150us/step\n",
      "Test Score: 0.511516957523975\n",
      "Test Accuracy: 0.7562862634658813\n"
     ]
    }
   ],
   "source": [
    "score = model.evaluate(x=[X_test_chat, X_test_trans, X2_test], y=y2_test, verbose=1)\n",
    "\n",
    "print(\"Test Score:\", score[0])\n",
    "print(\"Test Accuracy:\", score[1])"
   ]
  },
  {
   "cell_type": "code",
   "execution_count": 125,
   "metadata": {},
   "outputs": [
    {
     "data": {
      "image/png": "[encoded data removed]",
      "text/plain": [
       "<Figure size 432x288 with 1 Axes>"
      ]
     },
     "metadata": {
      "needs_background": "light"
     },
     "output_type": "display_data"
    },
    {
     "data": {
      "image/png": "[encoded data removed]",
      "text/plain": [
       "<Figure size 432x288 with 1 Axes>"
      ]
     },
     "metadata": {
      "needs_background": "light"
     },
     "output_type": "display_data"
    }
   ],
   "source": [
    "import matplotlib.pyplot as plt\n",
    "\n",
    "plt.plot(history4.history['acc'])\n",
    "plt.plot(history4.history['val_acc'])\n",
    "\n",
    "plt.title('model accuracy')\n",
    "plt.ylabel('accuracy')\n",
    "plt.xlabel('epoch')\n",
    "plt.legend(['train','test'], loc='upper left')\n",
    "plt.show()\n",
    "\n",
    "plt.plot(history4.history['loss'])\n",
    "plt.plot(history4.history['val_loss'])\n",
    "\n",
    "plt.title('model loss')\n",
    "plt.ylabel('loss')\n",
    "plt.xlabel('epoch')\n",
    "plt.legend(['train','test'], loc='upper left')\n",
    "plt.show()"
   ]
  },
  {
   "cell_type": "code",
   "execution_count": null,
   "metadata": {},
   "outputs": [],
   "source": []
  },
  {
   "cell_type": "code",
   "execution_count": null,
   "metadata": {},
   "outputs": [],
   "source": []
  }
 ],
 "metadata": {
  "kernelspec": {
   "display_name": "Python 3",
   "language": "python",
   "name": "python3"
  },
  "language_info": {
   "codemirror_mode": {
    "name": "ipython",
    "version": 3
   },
   "file_extension": ".py",
   "mimetype": "text/x-python",
   "name": "python",
   "nbconvert_exporter": "python",
   "pygments_lexer": "ipython3",
   "version": "3.7.3"
  }
 },
 "nbformat": 4,
 "nbformat_minor": 2
}
